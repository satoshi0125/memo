{
 "cells": [
  {
   "cell_type": "markdown",
   "metadata": {},
   "source": [
    "## Function visualization"
   ]
  },
  {
   "cell_type": "markdown",
   "metadata": {},
   "source": [
    "### Theory\n",
    "#### The Leff function is expressed by the following formula."
   ]
  },
  {
   "cell_type": "markdown",
   "metadata": {},
   "source": [
    "$$\n",
    "\\mathrm{Leff}(x) = \\frac{Lself*Rsol*(Rsol+Rs-(2\\pi x)^2*Lself*Cself*Rsol)-Rsol*Rs*(Lself+Cselfk*Rsol*Rs)}{(Rsol+Rs-(2\\pi x)^2*Lself*Cself*Rsol)^2+(2\\pi x)^2*(Lself+Cself*Rsol*Rs)^2}\n",
    "$$"
   ]
  },
  {
   "cell_type": "markdown",
   "metadata": {},
   "source": [
    " **Includes 2πx = ω ( x = f ), Lself, Rsol, Rs, Cself as function constants.**<br>\n",
    "**Please refer to the result below for the outline of the function.**"
   ]
  },
  {
   "cell_type": "code",
   "execution_count": 2,
   "metadata": {},
   "outputs": [],
   "source": [
    "import numpy as np\n",
    "import pandas as pd\n",
    "import matplotlib.pyplot as plt\n",
    "from scipy import optimize"
   ]
  },
  {
   "cell_type": "code",
   "execution_count": 3,
   "metadata": {},
   "outputs": [],
   "source": [
    "def Leff(x):\n",
    "    return (Lself*Rsol*(Rsol+Rs-(2*np.pi*x)**2*Lself*Cself*Rsol)-Rsol*Rs*(Lself+Cself*Rsol*Rs))/((Rsol+Rs-(2*np.pi*x)**2*Lself*Cself*Rsol)**2+(2*np.pi*x)**2*(Lself+Cself*Rsol*Rs)**2)"
   ]
  },
  {
   "cell_type": "code",
   "execution_count": 4,
   "metadata": {},
   "outputs": [],
   "source": [
    "Lself=2.08E-5\n",
    "Rs=1.2\n",
    "Rsol=1050\n",
    "Cself=9.72E-11"
   ]
  },
  {
   "cell_type": "code",
   "execution_count": 5,
   "metadata": {
    "scrolled": false
   },
   "outputs": [
    {
     "data": {
      "text/html": [
       "<div>\n",
       "<style scoped>\n",
       "    .dataframe tbody tr th:only-of-type {\n",
       "        vertical-align: middle;\n",
       "    }\n",
       "\n",
       "    .dataframe tbody tr th {\n",
       "        vertical-align: top;\n",
       "    }\n",
       "\n",
       "    .dataframe thead th {\n",
       "        text-align: right;\n",
       "    }\n",
       "</style>\n",
       "<table border=\"1\" class=\"dataframe\">\n",
       "  <thead>\n",
       "    <tr style=\"text-align: right;\">\n",
       "      <th></th>\n",
       "      <th>周波数f[Hz]</th>\n",
       "      <th>実測値L[H]</th>\n",
       "    </tr>\n",
       "  </thead>\n",
       "  <tbody>\n",
       "    <tr>\n",
       "      <th>0</th>\n",
       "      <td>100000</td>\n",
       "      <td>0.000023</td>\n",
       "    </tr>\n",
       "    <tr>\n",
       "      <th>1</th>\n",
       "      <td>200000</td>\n",
       "      <td>0.000023</td>\n",
       "    </tr>\n",
       "    <tr>\n",
       "      <th>2</th>\n",
       "      <td>300000</td>\n",
       "      <td>0.000023</td>\n",
       "    </tr>\n",
       "    <tr>\n",
       "      <th>3</th>\n",
       "      <td>400000</td>\n",
       "      <td>0.000024</td>\n",
       "    </tr>\n",
       "    <tr>\n",
       "      <th>4</th>\n",
       "      <td>500000</td>\n",
       "      <td>0.000024</td>\n",
       "    </tr>\n",
       "  </tbody>\n",
       "</table>\n",
       "</div>"
      ],
      "text/plain": [
       "   周波数f[Hz]   実測値L[H]\n",
       "0    100000  0.000023\n",
       "1    200000  0.000023\n",
       "2    300000  0.000023\n",
       "3    400000  0.000024\n",
       "4    500000  0.000024"
      ]
     },
     "execution_count": 5,
     "metadata": {},
     "output_type": "execute_result"
    }
   ],
   "source": [
    "df_measured_value = pd.read_csv('../../Research_identification_ecg/moto_measured_value.csv',sep=',')\n",
    "df_measured_value.head()"
   ]
  },
  {
   "cell_type": "code",
   "execution_count": 6,
   "metadata": {},
   "outputs": [],
   "source": [
    "list_measured_value = df_measured_value.T.values.tolist()"
   ]
  },
  {
   "cell_type": "code",
   "execution_count": 7,
   "metadata": {
    "scrolled": true
   },
   "outputs": [
    {
     "data": {
      "image/png": "[encoded data removed]",
      "text/plain": [
       "<Figure size 432x288 with 1 Axes>"
      ]
     },
     "metadata": {
      "needs_background": "light"
     },
     "output_type": "display_data"
    }
   ],
   "source": [
    "x_min = 100000\n",
    "x_max = 5000000\n",
    "N = 10000\n",
    "x = np.linspace(x_min, x_max, N)\n",
    "y = Leff(x)\n",
    "plt.scatter(list_measured_value[0],list_measured_value[1])\n",
    "plt.plot(x,y)\n",
    "plt.xlabel('x',fontsize = 15)\n",
    "plt.ylabel('Leff (x)',fontsize =15)\n",
    "plt.show()"
   ]
  },
  {
   "cell_type": "markdown",
   "metadata": {},
   "source": []
  },
  {
   "cell_type": "code",
   "execution_count": 8,
   "metadata": {
    "scrolled": true
   },
   "outputs": [
    {
     "data": {
      "image/png": "[encoded data removed]",
      "text/plain": [
       "<Figure size 432x288 with 1 Axes>"
      ]
     },
     "metadata": {
      "needs_background": "light"
     },
     "output_type": "display_data"
    }
   ],
   "source": [
    "plt.scatter(list_measured_value[0],list_measured_value[1])\n",
    "plt.xlabel('x',fontsize=15)\n",
    "plt.ylabel('Leff(x)',fontsize=15)\n",
    "plt.show()"
   ]
  },
  {
   "cell_type": "markdown",
   "metadata": {},
   "source": [
    "curve fitting optimaization\n",
    "- Optimization and root finding (scipy.optimize)\n",
    "    - https://docs.scipy.org/doc/scipy/reference/optimize.html<br>\n",
    "- scipy.optimize.least_squares [.](http://www2.kaiyodai.ac.jp/~kentaro/materials/new_HP/python/15fit_data3.html)\n",
    "    - https://docs.scipy.org/doc/scipy/reference/generated/scipy.optimize.least_squares.html#scipy.optimize.least_squares"
   ]
  },
  {
   "cell_type": "code",
   "execution_count": 9,
   "metadata": {},
   "outputs": [],
   "source": [
    "#measured data\n",
    "xdata  = np.array(list_measured_value[0])\n",
    "ydata = np.array(list_measured_value[1])"
   ]
  },
  {
   "cell_type": "code",
   "execution_count": 10,
   "metadata": {
    "scrolled": true
   },
   "outputs": [
    {
     "data": {
      "text/plain": [
       "numpy.ndarray"
      ]
     },
     "execution_count": 10,
     "metadata": {},
     "output_type": "execute_result"
    }
   ],
   "source": [
    "type(xdata)"
   ]
  },
  {
   "cell_type": "code",
   "execution_count": 11,
   "metadata": {
    "scrolled": true
   },
   "outputs": [
    {
     "data": {
      "text/plain": [
       "2.08e-05"
      ]
     },
     "execution_count": 11,
     "metadata": {},
     "output_type": "execute_result"
    }
   ],
   "source": [
    "Lself"
   ]
  },
  {
   "cell_type": "code",
   "execution_count": 12,
   "metadata": {},
   "outputs": [],
   "source": [
    "#for Least squares method with scipy.optimize\n",
    "def fit_func(parameter,x,y):\n",
    "    Lself=2.08E-5\n",
    "    Rs=1.2\n",
    "    Rsol = parameter[0]\n",
    "    Cself = parameter[1]\n",
    "    residual = y - ((Lself*Rsol*(Rsol+Rs-(2*np.pi*x)**2*Lself*Cself*Rsol)-Rsol*Rs*(Lself+Cself*Rsol*Rs))/((Rsol+Rs-(2*np.pi*x)**2*Lself*Cself*Rsol)**2+(2*np.pi*x)**2*(Lself+Cself*Rsol*Rs)**2))\n",
    "    return residual"
   ]
  },
  {
   "cell_type": "code",
   "execution_count": 13,
   "metadata": {
    "scrolled": false
   },
   "outputs": [
    {
     "name": "stdout",
     "output_type": "stream",
     "text": [
      "(array([0., 0.]), 4)\n",
      "0.0 0.0\n"
     ]
    }
   ],
   "source": [
    "parameter0 = [0.,0.]\n",
    "result = optimize.leastsq(fit_func,parameter0,args=(xdata,ydata))\n",
    "print(result)\n",
    "a_fit=result[0][0]\n",
    "b_fit=result[0][1]\n",
    "\n",
    "print(a_fit,b_fit)"
   ]
  },
  {
   "cell_type": "code",
   "execution_count": 14,
   "metadata": {
    "scrolled": false
   },
   "outputs": [
    {
     "data": {
      "image/png": "[encoded data removed]",
      "text/plain": [
       "<Figure size 576x360 with 1 Axes>"
      ]
     },
     "metadata": {
      "needs_background": "light"
     },
     "output_type": "display_data"
    }
   ],
   "source": [
    "#PLot\n",
    "plt.figure(figsize=(8,5))\n",
    "plt.plot(xdata,ydata,'bo', label='Exp.')\n",
    "plt.plot(xdata,a_fit*xdata+b_fit,'k-', label='fitted line', linewidth=10, alpha=0.3)\n",
    "plt.plot(xdata,ydata,'r-', label='mother line', linewidth=3)\n",
    "plt.xlabel('x',fontsize = 15)\n",
    "plt.ylabel('Leff (x)',fontsize=15)\n",
    "plt.legend(loc='best',fancybox=True, shadow=True)\n",
    "plt.grid(True)\n",
    "plt.show()"
   ]
  },
  {
   "cell_type": "markdown",
   "metadata": {},
   "source": [
    "scipy.optimize.curve_fit [.](https://qiita.com/kon2/items/6498e66af55949b41a99)\n",
    "[.](https://qiita.com/hik0107/items/9bdc236600635a0e61e8)\n",
    "- https://docs.scipy.org/doc/scipy/reference/generated/scipy.optimize.curve_fit.html#scipy.optimize.curve_fit"
   ]
  },
  {
   "cell_type": "code",
   "execution_count": 15,
   "metadata": {},
   "outputs": [],
   "source": [
    "from scipy.optimize import curve_fit"
   ]
  },
  {
   "cell_type": "code",
   "execution_count": 16,
   "metadata": {},
   "outputs": [],
   "source": [
    "#for curve fit method with scipy.optimize\n",
    "def func(x,a,b):\n",
    "    Lself=2.08E-5\n",
    "    Rs=1.2\n",
    "    Rsol = a\n",
    "    Cself = b\n",
    "    y = (Lself*Rsol*(Rsol+Rs-(2*np.pi*x)**2*Lself*Cself*Rsol)-Rsol*Rs*(Lself+Cself*Rsol*Rs))/((Rsol+Rs-(2*np.pi*x)**2*Lself*Cself*Rsol)**2+(2*np.pi*x)**2*(Lself+Cself*Rsol*Rs)**2)\n",
    "    return y"
   ]
  },
  {
   "cell_type": "code",
   "execution_count": 17,
   "metadata": {},
   "outputs": [],
   "source": [
    "initial_setting = []\n",
    "initial_setting.append([1050,9.72E-11])"
   ]
  },
  {
   "cell_type": "code",
   "execution_count": 18,
   "metadata": {
    "scrolled": true
   },
   "outputs": [
    {
     "data": {
      "text/plain": [
       "[[1050, 9.72e-11]]"
      ]
     },
     "execution_count": 18,
     "metadata": {},
     "output_type": "execute_result"
    }
   ],
   "source": [
    "initial_setting"
   ]
  },
  {
   "cell_type": "code",
   "execution_count": 19,
   "metadata": {
    "scrolled": false
   },
   "outputs": [
    {
     "data": {
      "text/plain": [
       "array([9.15138657e+02, 9.18531694e-11])"
      ]
     },
     "execution_count": 19,
     "metadata": {},
     "output_type": "execute_result"
    }
   ],
   "source": [
    "#OLS\n",
    "popt, pcov = curve_fit(func, xdata, ydata, p0=initial_setting)\n",
    "# popt, pcov = curve_fit(func, xdata, ydata) #OptimizeWarning\n",
    "popt"
   ]
  },
  {
   "cell_type": "code",
   "execution_count": 20,
   "metadata": {
    "scrolled": true
   },
   "outputs": [
    {
     "name": "stdout",
     "output_type": "stream",
     "text": [
      "Rsol : 1050, Cself : 9.72e-11\n"
     ]
    }
   ],
   "source": [
    "print('Rsol : {}, Cself : {}'.format(Rsol,Cself))"
   ]
  },
  {
   "cell_type": "code",
   "execution_count": 21,
   "metadata": {
    "scrolled": false
   },
   "outputs": [
    {
     "name": "stdout",
     "output_type": "stream",
     "text": [
      "diff_Rsol : 134.8613431123582, diff_Cself : 5.346830577407073e-12\n"
     ]
    }
   ],
   "source": [
    "diff_Rsol = np.abs(Rsol - popt[0])\n",
    "diff_Cself = np.abs(Cself - popt[1])\n",
    "print('diff_Rsol : {}, diff_Cself : {}'.format(diff_Rsol,diff_Cself))"
   ]
  },
  {
   "cell_type": "code",
   "execution_count": 24,
   "metadata": {
    "scrolled": true
   },
   "outputs": [
    {
     "name": "stdout",
     "output_type": "stream",
     "text": [
      "Rsol : 915.1386568876418, Cself : 9.185316942259293e-11\n"
     ]
    }
   ],
   "source": [
    "print('Rsol : {}, Cself : {}'.format(popt[0],popt[1]))"
   ]
  },
  {
   "cell_type": "code",
   "execution_count": 25,
   "metadata": {
    "scrolled": false
   },
   "outputs": [
    {
     "data": {
      "image/png": "[encoded data removed]",
      "text/plain": [
       "<Figure size 576x360 with 1 Axes>"
      ]
     },
     "metadata": {
      "needs_background": "light"
     },
     "output_type": "display_data"
    }
   ],
   "source": [
    "fig = plt.figure(figsize=(8,5))\n",
    "plt.plot(xdata, func(xdata, *popt), 'r-',label='fit func : Rsol=%5.3e, Cself=%5.3e' % tuple(popt))\n",
    "plt.plot(xdata, func(xdata, Rsol,Cself),label='demo : Rsol=1050, Cself=9.72e-11')\n",
    "plt.plot(xdata,ydata,'bo', label='measured value')\n",
    "plt.xlabel('x',fontsize=15)\n",
    "plt.ylabel('Leff (x)',fontsize=15)\n",
    "plt.legend()\n",
    "plt.show()"
   ]
  },
  {
   "cell_type": "markdown",
   "metadata": {},
   "source": [
    "1/1000000くらい足せばもっとましになるんじゃね？"
   ]
  },
  {
   "cell_type": "markdown",
   "metadata": {},
   "source": [
    "追記：\n",
    "\n",
    "OriginProでも同様な結果が得られたので、この結果は間違えていないのだとも想定される。"
   ]
  },
  {
   "cell_type": "code",
   "execution_count": null,
   "metadata": {},
   "outputs": [],
   "source": []
  }
 ],
 "metadata": {
  "kernelspec": {
   "display_name": "Python 3",
   "language": "python",
   "name": "python3"
  },
  "language_info": {
   "codemirror_mode": {
    "name": "ipython",
    "version": 3
   },
   "file_extension": ".py",
   "mimetype": "text/x-python",
   "name": "python",
   "nbconvert_exporter": "python",
   "pygments_lexer": "ipython3",
   "version": "3.7.4"
  }
 },
 "nbformat": 4,
 "nbformat_minor": 4
}
