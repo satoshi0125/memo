{
 "cells": [
  {
   "cell_type": "markdown",
   "metadata": {},
   "source": [
    "### Let's classify without using a machine learning library about sklearn !!\n",
    "\n",
    "## MLP (Multi Layer Perceptron)\n",
    "- data for classification : iris data (3 species)\n",
    "- ECGに使う場合はiris dataと同様の形式にすればイケる"
   ]
  },
  {
   "cell_type": "code",
   "execution_count": 1,
   "metadata": {
    "scrolled": true
   },
   "outputs": [
    {
     "data": {
      "text/html": [
       "<style>.container { width:100% !important; }</style>"
      ],
      "text/plain": [
       "<IPython.core.display.HTML object>"
      ]
     },
     "metadata": {},
     "output_type": "display_data"
    }
   ],
   "source": [
    "from IPython.core.display import display, HTML\n",
    "display(HTML(\"<style>.container { width:100% !important; }</style>\"))"
   ]
  },
  {
   "cell_type": "code",
   "execution_count": 2,
   "metadata": {},
   "outputs": [],
   "source": [
    "import numpy as np\n",
    "import pandas as pd\n",
    "import urllib.request \n",
    "import matplotlib.pyplot as plt\n",
    "%matplotlib inline"
   ]
  },
  {
   "cell_type": "code",
   "execution_count": 3,
   "metadata": {
    "scrolled": true
   },
   "outputs": [
    {
     "data": {
      "text/plain": [
       "('iris.txt', <http.client.HTTPMessage at 0x11ce6b710>)"
      ]
     },
     "execution_count": 3,
     "metadata": {},
     "output_type": "execute_result"
    }
   ],
   "source": [
    "url = \"https://raw.githubusercontent.com/maskot1977/ipython_notebook/master/toydata/iris.txt\"\n",
    "urllib.request.urlretrieve(url, 'iris.txt') "
   ]
  },
  {
   "cell_type": "code",
   "execution_count": 4,
   "metadata": {
    "scrolled": true
   },
   "outputs": [
    {
     "name": "stdout",
     "output_type": "stream",
     "text": [
      "(150, 5)\n"
     ]
    },
    {
     "data": {
      "text/html": [
       "<div>\n",
       "<style scoped>\n",
       "    .dataframe tbody tr th:only-of-type {\n",
       "        vertical-align: middle;\n",
       "    }\n",
       "\n",
       "    .dataframe tbody tr th {\n",
       "        vertical-align: top;\n",
       "    }\n",
       "\n",
       "    .dataframe thead th {\n",
       "        text-align: right;\n",
       "    }\n",
       "</style>\n",
       "<table border=\"1\" class=\"dataframe\">\n",
       "  <thead>\n",
       "    <tr style=\"text-align: right;\">\n",
       "      <th></th>\n",
       "      <th>Sepal.Length</th>\n",
       "      <th>Sepal.Width</th>\n",
       "      <th>Petal.Length</th>\n",
       "      <th>Petal.Width</th>\n",
       "      <th>Species</th>\n",
       "    </tr>\n",
       "  </thead>\n",
       "  <tbody>\n",
       "    <tr>\n",
       "      <th>1</th>\n",
       "      <td>5.1</td>\n",
       "      <td>3.5</td>\n",
       "      <td>1.4</td>\n",
       "      <td>0.2</td>\n",
       "      <td>0</td>\n",
       "    </tr>\n",
       "    <tr>\n",
       "      <th>2</th>\n",
       "      <td>4.9</td>\n",
       "      <td>3.0</td>\n",
       "      <td>1.4</td>\n",
       "      <td>0.2</td>\n",
       "      <td>0</td>\n",
       "    </tr>\n",
       "    <tr>\n",
       "      <th>3</th>\n",
       "      <td>4.7</td>\n",
       "      <td>3.2</td>\n",
       "      <td>1.3</td>\n",
       "      <td>0.2</td>\n",
       "      <td>0</td>\n",
       "    </tr>\n",
       "    <tr>\n",
       "      <th>4</th>\n",
       "      <td>4.6</td>\n",
       "      <td>3.1</td>\n",
       "      <td>1.5</td>\n",
       "      <td>0.2</td>\n",
       "      <td>0</td>\n",
       "    </tr>\n",
       "    <tr>\n",
       "      <th>5</th>\n",
       "      <td>5.0</td>\n",
       "      <td>3.6</td>\n",
       "      <td>1.4</td>\n",
       "      <td>0.2</td>\n",
       "      <td>0</td>\n",
       "    </tr>\n",
       "  </tbody>\n",
       "</table>\n",
       "</div>"
      ],
      "text/plain": [
       "   Sepal.Length  Sepal.Width  Petal.Length  Petal.Width  Species\n",
       "1           5.1          3.5           1.4          0.2        0\n",
       "2           4.9          3.0           1.4          0.2        0\n",
       "3           4.7          3.2           1.3          0.2        0\n",
       "4           4.6          3.1           1.5          0.2        0\n",
       "5           5.0          3.6           1.4          0.2        0"
      ]
     },
     "execution_count": 4,
     "metadata": {},
     "output_type": "execute_result"
    }
   ],
   "source": [
    "df = pd.read_csv(\"iris.txt\", sep=\"\\t\", index_col=0)\n",
    "print(df.shape) # 何行何列か確認する\n",
    "df.head() # 先頭五行の内容を確認する"
   ]
  },
  {
   "cell_type": "markdown",
   "metadata": {},
   "source": [
    "### Case 1 : scikit-lean"
   ]
  },
  {
   "cell_type": "code",
   "execution_count": 5,
   "metadata": {},
   "outputs": [],
   "source": [
    "X = np.array(df.iloc[:, :4].values) \n",
    "Y = np.array(df.iloc[:, 4])"
   ]
  },
  {
   "cell_type": "code",
   "execution_count": 7,
   "metadata": {
    "scrolled": true
   },
   "outputs": [
    {
     "data": {
      "text/plain": [
       "0.98"
      ]
     },
     "execution_count": 7,
     "metadata": {},
     "output_type": "execute_result"
    }
   ],
   "source": [
    "from sklearn.neural_network import MLPClassifier\n",
    "clf = MLPClassifier(max_iter=10000)\n",
    "clf.fit(X, Y)\n",
    "clf.score(X, Y)#accuracy score"
   ]
  },
  {
   "cell_type": "code",
   "execution_count": 8,
   "metadata": {
    "scrolled": false
   },
   "outputs": [
    {
     "data": {
      "image/png": "[encoded data removed]",
      "text/plain": [
       "<Figure size 432x288 with 1 Axes>"
      ]
     },
     "metadata": {
      "needs_background": "light"
     },
     "output_type": "display_data"
    }
   ],
   "source": [
    "#ロス（教師データと予測データとのズレ）が収束するか調べる\n",
    "plt.title(\"Loss Curve\")\n",
    "plt.plot(clf.loss_curve_)\n",
    "plt.xlabel(\"Iteration\")\n",
    "plt.ylabel(\"Loss\")\n",
    "plt.grid()\n",
    "plt.show()"
   ]
  },
  {
   "cell_type": "code",
   "execution_count": 9,
   "metadata": {
    "scrolled": false
   },
   "outputs": [
    {
     "data": {
      "text/plain": [
       "<bound method BaseEstimator.get_params of MLPClassifier(activation='relu', alpha=0.0001, batch_size='auto', beta_1=0.9,\n",
       "              beta_2=0.999, early_stopping=False, epsilon=1e-08,\n",
       "              hidden_layer_sizes=(100,), learning_rate='constant',\n",
       "              learning_rate_init=0.001, max_iter=10000, momentum=0.9,\n",
       "              n_iter_no_change=10, nesterovs_momentum=True, power_t=0.5,\n",
       "              random_state=None, shuffle=True, solver='adam', tol=0.0001,\n",
       "              validation_fraction=0.1, verbose=False, warm_start=False)>"
      ]
     },
     "execution_count": 9,
     "metadata": {},
     "output_type": "execute_result"
    }
   ],
   "source": [
    "#作成したモデルのパラメータ\n",
    "clf.get_params"
   ]
  },
  {
   "cell_type": "code",
   "execution_count": 10,
   "metadata": {},
   "outputs": [
    {
     "data": {
      "text/plain": [
       "array([0, 0, 0, 0, 0, 0, 0, 0, 0, 0, 0, 0, 0, 0, 0, 0, 0, 0, 0, 0, 0, 0,\n",
       "       0, 0, 0, 0, 0, 0, 0, 0, 0, 0, 0, 0, 0, 0, 0, 0, 0, 0, 0, 0, 0, 0,\n",
       "       0, 0, 0, 0, 0, 0, 1, 1, 1, 1, 1, 1, 1, 1, 1, 1, 1, 1, 1, 1, 1, 1,\n",
       "       1, 1, 1, 1, 2, 1, 1, 1, 1, 1, 1, 1, 1, 1, 1, 1, 1, 2, 1, 1, 1, 1,\n",
       "       1, 1, 1, 1, 1, 1, 1, 1, 1, 1, 1, 1, 2, 2, 2, 2, 2, 2, 2, 2, 2, 2,\n",
       "       2, 2, 2, 2, 2, 2, 2, 2, 2, 2, 2, 2, 2, 2, 2, 2, 2, 2, 2, 2, 2, 2,\n",
       "       2, 1, 2, 2, 2, 2, 2, 2, 2, 2, 2, 2, 2, 2, 2, 2, 2, 2])"
      ]
     },
     "execution_count": 10,
     "metadata": {},
     "output_type": "execute_result"
    }
   ],
   "source": [
    "#予測結果\n",
    "clf.predict(X)"
   ]
  },
  {
   "cell_type": "code",
   "execution_count": 11,
   "metadata": {
    "scrolled": false
   },
   "outputs": [
    {
     "data": {
      "text/html": [
       "<div>\n",
       "<style scoped>\n",
       "    .dataframe tbody tr th:only-of-type {\n",
       "        vertical-align: middle;\n",
       "    }\n",
       "\n",
       "    .dataframe tbody tr th {\n",
       "        vertical-align: top;\n",
       "    }\n",
       "\n",
       "    .dataframe thead th {\n",
       "        text-align: right;\n",
       "    }\n",
       "</style>\n",
       "<table border=\"1\" class=\"dataframe\">\n",
       "  <thead>\n",
       "    <tr style=\"text-align: right;\">\n",
       "      <th></th>\n",
       "      <th>0</th>\n",
       "      <th>1</th>\n",
       "      <th>2</th>\n",
       "    </tr>\n",
       "  </thead>\n",
       "  <tbody>\n",
       "    <tr>\n",
       "      <th>0</th>\n",
       "      <td>0.998443</td>\n",
       "      <td>0.001557</td>\n",
       "      <td>3.094158e-14</td>\n",
       "    </tr>\n",
       "    <tr>\n",
       "      <th>1</th>\n",
       "      <td>0.994731</td>\n",
       "      <td>0.005269</td>\n",
       "      <td>7.632232e-13</td>\n",
       "    </tr>\n",
       "    <tr>\n",
       "      <th>2</th>\n",
       "      <td>0.997299</td>\n",
       "      <td>0.002701</td>\n",
       "      <td>2.722631e-13</td>\n",
       "    </tr>\n",
       "    <tr>\n",
       "      <th>3</th>\n",
       "      <td>0.993339</td>\n",
       "      <td>0.006661</td>\n",
       "      <td>2.583616e-12</td>\n",
       "    </tr>\n",
       "    <tr>\n",
       "      <th>4</th>\n",
       "      <td>0.998674</td>\n",
       "      <td>0.001326</td>\n",
       "      <td>2.721707e-14</td>\n",
       "    </tr>\n",
       "  </tbody>\n",
       "</table>\n",
       "</div>"
      ],
      "text/plain": [
       "          0         1             2\n",
       "0  0.998443  0.001557  3.094158e-14\n",
       "1  0.994731  0.005269  7.632232e-13\n",
       "2  0.997299  0.002701  2.722631e-13\n",
       "3  0.993339  0.006661  2.583616e-12\n",
       "4  0.998674  0.001326  2.721707e-14"
      ]
     },
     "execution_count": 11,
     "metadata": {},
     "output_type": "execute_result"
    }
   ],
   "source": [
    "#それぞれの予測に対する自信のほど\n",
    "pd.DataFrame(clf.predict_proba(X)).head()"
   ]
  },
  {
   "cell_type": "markdown",
   "metadata": {},
   "source": [
    "### Case 2 : not use scikit-learn"
   ]
  },
  {
   "cell_type": "code",
   "execution_count": 12,
   "metadata": {},
   "outputs": [],
   "source": [
    "def one_hot_vectors(V): # one hot vector に変換する\n",
    "    T = pd.DataFrame([])\n",
    "    T[0] = [1 if v == 0 else 0 for v in V]\n",
    "    T[1] = [1 if v == 1 else 0 for v in V]\n",
    "    T[2] = [1 if v == 2 else 0 for v in V]\n",
    "    return np.array(T)"
   ]
  },
  {
   "cell_type": "code",
   "execution_count": 13,
   "metadata": {},
   "outputs": [],
   "source": [
    "X = np.array(df.iloc[:, :4].values)\n",
    "Y = one_hot_vectors(df.iloc[:, 4])"
   ]
  },
  {
   "cell_type": "markdown",
   "metadata": {},
   "source": [
    "### create MyMLP"
   ]
  },
  {
   "cell_type": "code",
   "execution_count": 14,
   "metadata": {},
   "outputs": [],
   "source": [
    "class MyMLP:\n",
    "    def __init__(self, input_layer_size, hidden_layer_size, output_layer_size):\n",
    "        init_weight = 0.01 # ランダムな初期値に対してちょっとバラツキを控えめにする\n",
    "\n",
    "        # 隠れ層の重み行列W1とバイアスb1にランダムな初期値を与える\n",
    "        self.W1 = init_weight * np.random.randn(input_layer_size, hidden_layer_size)\n",
    "        self.b1 = np.zeros(hidden_layer_size)\n",
    "        self.a1 = [] # 隠れ層が保持する値（シグモイド関数による変換前）\n",
    "        self.z1 = [] # 隠れ層が保持する値（シグモイド関数による変換後）\n",
    "\n",
    "        # 出力層の重み行列W2とバイアスb2にランダムな初期値を与える\n",
    "        self.W2 = init_weight * np.random.randn(hidden_layer_size, output_layer_size)\n",
    "        self.b2 = np.zeros(output_layer_size)\n",
    "        self.a2 = [] # 出力層が保持する値（ソフトマックス関数による変換前）\n",
    "        self.z2 = [] # 出力層が保持する値（ソフトマックス関数による変換後）\n",
    "\n",
    "        self.loss_ = -1 # 誤差\n",
    "        self.loss_curve_ = [] # 誤差の履歴\n",
    "\n",
    "        print(\"W1.shape=\", self.W1.shape)\n",
    "        print(\"b1.shape=\", self.b1.shape)\n",
    "        print(\"W2.shape=\", self.W2.shape)\n",
    "        print(\"b2.shape=\", self.b2.shape)\n",
    "\n",
    "    def forward_propagation(self, x): # 前向き計算\n",
    "        self.a1 = np.dot(x, self.W1) + self.b1 # 入力層からの入力と重み行列との線形和＋バイアス\n",
    "        self.z1 = sigmoid(self.a1) # シグモイド関数で変換して隠れ層からの出力とする\n",
    "        self.a2 = np.dot(self.z1, self.W2) + self.b2 # 隠れ層からの入力と重み行列との線形和＋バイアス\n",
    "        self.z2 = softmax(self.a2) # ソフトマックス関数で変換して出力層からの出力とする\n",
    "        return self.z2 # 出力層からの出力を予測結果とする\n",
    "\n",
    "    def backward_propagation(self, x, y_pred, y_real): # 後ろ向き計算\n",
    "        grads = Gradient() # 重み行列を修正するための勾配を取りまとめるクラス\n",
    "        batch_num = x.shape[0] # 入力データの総数\n",
    "        dy = (y_pred - y_real) / batch_num # 全データに対して誤差を算出し、データ総数で割る\n",
    "        grads.W2 = np.dot(self.z1.T, dy) # 出力層の重み行列W2を修正するための勾配\n",
    "        grads.b2 = np.sum(dy, axis=0) # 出力層のバイアスb2を修正するための勾配\n",
    "        dz1 = np.dot(dy, self.W2.T) # 隠れ層を修正するための誤差\n",
    "        da1 = sigmoid_gradient(self.a1) * dz1 # 隠れ層を修正するための勾配\n",
    "        grads.W1 = np.dot(x.T, da1) # 隠れ層の重み行列W1を修正するための勾配\n",
    "        grads.b1 = np.sum(da1, axis=0) # 隠れ層のバイアスb1を修正するための勾配\n",
    "        return grads # 計算した勾配をまとめて返す\n",
    "\n",
    "    # x:入力データ, t:教師データ\n",
    "    def loss(self, x, y_real): # 予測結果と本当の値とのクロスエントロピー誤差を損失関数とする\n",
    "        self.loss_ = cross_entropy_error(self.forward_propagation(x), y_real)\n",
    "        return self.loss_\n",
    "\n",
    "    def score(self, x, y_real): # accuracy score\n",
    "        y_real = np.argmax(y_real, axis=1) \n",
    "        y_pred = np.argmax(self.forward_propagation(x), axis=1)\n",
    "        accuracy = np.sum(y_pred == y_real) / float(x.shape[0])\n",
    "        return accuracy\n",
    "\n",
    "class Gradient: # 重み行列を修正するための勾配を取りまとめるクラス\n",
    "    def __init__(self):\n",
    "        self.W1 = np.array([])\n",
    "        self.b1 = np.array([])\n",
    "        self.W2 = np.array([])\n",
    "        self.b2 = np.array([])"
   ]
  },
  {
   "cell_type": "code",
   "execution_count": 15,
   "metadata": {},
   "outputs": [],
   "source": [
    "def sigmoid(x): # シグモイド関数\n",
    "    return 1 / (1 + np.exp(-x))"
   ]
  },
  {
   "cell_type": "markdown",
   "metadata": {},
   "source": [
    "### Sigmoid\n",
    "Sigmoid関数は、Neuralnetが「神経細胞を模したmodel」であると言われてきた象徴とも言える関数で、非線形活性化関数として使われます。<br>ただ、計算時間短縮の観点から、現在のdeep learningなどではsigmoid関数ではなくReLU関数などが使われる傾向があります。<br>順方向の計算に使います。"
   ]
  },
  {
   "cell_type": "code",
   "execution_count": 16,
   "metadata": {},
   "outputs": [],
   "source": [
    "def sigmoid_gradient(x): # シグモイド関数の微分\n",
    "    return (1.0 - sigmoid(x)) * sigmoid(x)"
   ]
  },
  {
   "cell_type": "markdown",
   "metadata": {},
   "source": [
    "### Sigmoid gradient\n",
    "sigmoid関数の微分を使って勾配を出します。逆方向の計算で使います。sigmoid関数の微分について詳しくは[こちら](https://qiita.com/yosshi4486/items/d111272edeba0984cef2)を参照。"
   ]
  },
  {
   "cell_type": "code",
   "execution_count": 17,
   "metadata": {},
   "outputs": [],
   "source": [
    "def softmax(x): # 和が1になるように変換することで「確率」としての取り扱いを可能にする\n",
    "    if x.ndim == 2:\n",
    "        x = x.T\n",
    "        x = x - np.max(x, axis=0)\n",
    "        y = np.exp(x) / np.sum(np.exp(x), axis=0)\n",
    "        return y.T \n",
    "    x = x - np.max(x)\n",
    "    return np.exp(x) / np.sum(np.exp(x))"
   ]
  },
  {
   "cell_type": "markdown",
   "metadata": {},
   "source": [
    "### Softmax\n",
    "和が1になるように変換することで「確率」としての取り扱いを可能にする関数です。順方向の計算に使います。"
   ]
  },
  {
   "cell_type": "code",
   "execution_count": 18,
   "metadata": {},
   "outputs": [],
   "source": [
    "def cross_entropy_error(y_pred, y_real): # クロスエントロピー誤差\n",
    "    if y_real.ndim == 1:\n",
    "        y_real = y_real.reshape(1, t.size)\n",
    "        y_pred = y_pred.reshape(1, y.size)\n",
    "    if y_real.size == y_pred.size:\n",
    "        y_real = y_real.argmax(axis=1)\n",
    "    batch_size = y_pred.shape[0]\n",
    "    return -np.sum(np.log(y_pred[np.arange(batch_size), y_real] + 1e-8)) / batch_size"
   ]
  },
  {
   "cell_type": "markdown",
   "metadata": {},
   "source": [
    "cross entropyとは、2つの確率分布の間に定義される値で、二つの分布が異なるほど大きな値をとります。NeuralNetworkやdeep learningでは、softmax関数と組み合わせて、誤差（損失）の計算によく使われます。"
   ]
  },
  {
   "cell_type": "markdown",
   "metadata": {},
   "source": [
    "### create MyMLP class instance"
   ]
  },
  {
   "cell_type": "code",
   "execution_count": 19,
   "metadata": {
    "scrolled": true
   },
   "outputs": [
    {
     "name": "stdout",
     "output_type": "stream",
     "text": [
      "W1.shape= (4, 3)\n",
      "b1.shape= (3,)\n",
      "W2.shape= (3, 3)\n",
      "b2.shape= (3,)\n"
     ]
    }
   ],
   "source": [
    "net = MyMLP(input_layer_size=4, hidden_layer_size=3, output_layer_size=3)"
   ]
  },
  {
   "cell_type": "markdown",
   "metadata": {},
   "source": [
    "## 実際の学習手順"
   ]
  },
  {
   "cell_type": "markdown",
   "metadata": {},
   "source": [
    "今回は収束条件の判定は特に行わず、繰り返しの回数だけ決めておきます。学習率は、勾配降下法などで使うものと同じ概念です。"
   ]
  },
  {
   "cell_type": "code",
   "execution_count": 20,
   "metadata": {},
   "outputs": [],
   "source": [
    "iters_num = 5000  # 繰り返しの回数\n",
    "learning_rate = 0.1 # 学習率"
   ]
  },
  {
   "cell_type": "markdown",
   "metadata": {},
   "source": [
    "順方向の計算（前向き計算）を行なって予測値を出し、実際の値との誤差を算出し、逆方向の計算（後ろ向き計算）を行なって各種パラメータを微調整していくという流れを繰り返します。ただし、実際の計算では1個1個のsampleに対して順方向・逆方向の計算をするのではなく、「batch」と呼ばれる単位でまとめて計算します。そのために行列演算を使います。"
   ]
  },
  {
   "cell_type": "code",
   "execution_count": 21,
   "metadata": {},
   "outputs": [],
   "source": [
    "accuracy_curve = []\n",
    "for i in range(iters_num):\n",
    "    Y_pred = net.forward_propagation(X) # 順方向の計算\n",
    "    grad = net.backward_propagation(X, Y_pred, Y) # 逆方向の計算\n",
    "    net.W1 -= learning_rate * grad.W1 # 隠れ層の重み行列W1を微修正\n",
    "    net.b1 -= learning_rate * grad.b1 # 隠れ層のバイアスb1を微修正\n",
    "    net.W2 -= learning_rate * grad.W2 # 出力層の重み行列W2を微修正\n",
    "    net.b2 -= learning_rate * grad.b2 # 出力層のバイアスb2を微修正\n",
    "    accuracy_curve.append(net.score(X, Y)) # 正解率の履歴を記録\n",
    "    net.loss_curve_.append(net.loss(X, Y)) # 誤差の履歴を記録"
   ]
  },
  {
   "cell_type": "code",
   "execution_count": 22,
   "metadata": {
    "scrolled": true
   },
   "outputs": [
    {
     "data": {
      "text/plain": [
       "0.98"
      ]
     },
     "execution_count": 22,
     "metadata": {},
     "output_type": "execute_result"
    }
   ],
   "source": [
    "net.score(X,Y)"
   ]
  },
  {
   "cell_type": "code",
   "execution_count": 23,
   "metadata": {},
   "outputs": [
    {
     "data": {
      "image/png": "[encoded data removed]",
      "text/plain": [
       "<Figure size 432x288 with 1 Axes>"
      ]
     },
     "metadata": {
      "needs_background": "light"
     },
     "output_type": "display_data"
    }
   ],
   "source": [
    "plt.title(\"Accuracy Curve\")\n",
    "plt.plot(accuracy_curve)\n",
    "plt.xlabel(\"Iteration\")\n",
    "plt.ylabel(\"Accuracy\")\n",
    "plt.grid()\n",
    "plt.show()"
   ]
  },
  {
   "cell_type": "code",
   "execution_count": 24,
   "metadata": {},
   "outputs": [
    {
     "data": {
      "text/plain": [
       "0.0672153828603927"
      ]
     },
     "execution_count": 24,
     "metadata": {},
     "output_type": "execute_result"
    }
   ],
   "source": [
    "#loss\n",
    "net.loss(X,Y)"
   ]
  },
  {
   "cell_type": "code",
   "execution_count": 25,
   "metadata": {},
   "outputs": [
    {
     "data": {
      "image/png": "[encoded data removed]",
      "text/plain": [
       "<Figure size 432x288 with 1 Axes>"
      ]
     },
     "metadata": {
      "needs_background": "light"
     },
     "output_type": "display_data"
    }
   ],
   "source": [
    "plt.title(\"Loss Curve\")\n",
    "plt.plot(net.loss_curve_)\n",
    "plt.xlabel(\"Iteration\")\n",
    "plt.ylabel(\"Loss\")\n",
    "plt.grid()\n",
    "plt.show()"
   ]
  },
  {
   "cell_type": "code",
   "execution_count": 26,
   "metadata": {},
   "outputs": [
    {
     "data": {
      "text/plain": [
       "array([[ 1.62245508,  1.58546936, -0.49857965],\n",
       "       [ 1.7252886 ,  1.66565031, -1.72817805],\n",
       "       [-2.52221766, -2.45405461,  2.68644731],\n",
       "       [-2.91667906, -2.84854675,  1.30915933]])"
      ]
     },
     "execution_count": 26,
     "metadata": {},
     "output_type": "execute_result"
    }
   ],
   "source": [
    "net.W1"
   ]
  },
  {
   "cell_type": "code",
   "execution_count": 27,
   "metadata": {},
   "outputs": [
    {
     "data": {
      "text/plain": [
       "array([ 1.67504668,  1.62198809, -0.32159392])"
      ]
     },
     "execution_count": 27,
     "metadata": {},
     "output_type": "execute_result"
    }
   ],
   "source": [
    "net.b1"
   ]
  },
  {
   "cell_type": "code",
   "execution_count": 28,
   "metadata": {},
   "outputs": [
    {
     "data": {
      "text/plain": [
       "array([[ 3.22372659,  1.73577374, -4.93828396],\n",
       "       [ 3.03002231,  1.68924477, -4.70884624],\n",
       "       [-6.27971486,  2.58915489,  3.69015485]])"
      ]
     },
     "execution_count": 28,
     "metadata": {},
     "output_type": "execute_result"
    }
   ],
   "source": [
    "net.W2"
   ]
  },
  {
   "cell_type": "code",
   "execution_count": 29,
   "metadata": {},
   "outputs": [
    {
     "data": {
      "text/plain": [
       "array([-0.09579973, -1.89519629,  1.99099602])"
      ]
     },
     "execution_count": 29,
     "metadata": {},
     "output_type": "execute_result"
    }
   ],
   "source": [
    "net.b2"
   ]
  },
  {
   "cell_type": "code",
   "execution_count": 30,
   "metadata": {},
   "outputs": [
    {
     "data": {
      "text/plain": [
       "array([[9.89664681e-01, 1.03342509e-02, 1.06778905e-06],\n",
       "       [9.88529801e-01, 1.14689982e-02, 1.20091656e-06],\n",
       "       [9.89277788e-01, 1.07210994e-02, 1.11305233e-06],\n",
       "       [9.87989457e-01, 1.20092783e-02, 1.26510536e-06],\n",
       "       [9.89742223e-01, 1.02567184e-02, 1.05877637e-06],\n",
       "       [9.89492355e-01, 1.05065569e-02, 1.08786748e-06],\n",
       "       [9.89158580e-01, 1.08402927e-02, 1.12711634e-06],\n",
       "       [9.89231333e-01, 1.07675485e-02, 1.11840073e-06],\n",
       "       [9.87493406e-01, 1.25052695e-02, 1.32447400e-06],\n",
       "       [9.88595566e-01, 1.14032410e-02, 1.19309260e-06],\n",
       "       [9.89800358e-01, 1.01985901e-02, 1.05197810e-06],\n",
       "       [9.88717204e-01, 1.12816176e-02, 1.17884710e-06],\n",
       "       [9.88677639e-01, 1.13211774e-02, 1.18346035e-06],\n",
       "       [9.89402583e-01, 1.05963187e-02, 1.09854452e-06],\n",
       "       [9.90208990e-01, 9.79000550e-03, 1.00461728e-06],\n",
       "       [9.90149262e-01, 9.84972671e-03, 1.01152796e-06],\n",
       "       [9.90043573e-01, 9.95540289e-03, 1.02377618e-06],\n",
       "       [9.89570268e-01, 1.04286530e-02, 1.07881130e-06],\n",
       "       [9.89579380e-01, 1.04195426e-02, 1.07767201e-06],\n",
       "       [9.89739805e-01, 1.02591357e-02, 1.05906150e-06],\n",
       "       [9.88768517e-01, 1.12303106e-02, 1.17261452e-06],\n",
       "       [9.89527390e-01, 1.04715260e-02, 1.08383770e-06],\n",
       "       [9.90082546e-01, 9.91643432e-03, 1.01929564e-06],\n",
       "       [9.86952443e-01, 1.30461686e-02, 1.38892400e-06],\n",
       "       [9.86461588e-01, 1.35369638e-02, 1.44782865e-06],\n",
       "       [9.87283706e-01, 1.27149454e-02, 1.34892985e-06],\n",
       "       [9.88415296e-01, 1.15834897e-02, 1.21452910e-06],\n",
       "       [9.89499292e-01, 1.04996205e-02, 1.08704930e-06],\n",
       "       [9.89576459e-01, 1.04224632e-02, 1.07805349e-06],\n",
       "       [9.87870435e-01, 1.21282858e-02, 1.27916678e-06],\n",
       "       [9.87518381e-01, 1.24802983e-02, 1.32104202e-06],\n",
       "       [9.89158202e-01, 1.08406711e-02, 1.12693918e-06],\n",
       "       [9.90070559e-01, 9.92841988e-03, 1.02063883e-06],\n",
       "       [9.90163329e-01, 9.83566105e-03, 1.00989940e-06],\n",
       "       [9.88336752e-01, 1.16620242e-02, 1.22372510e-06],\n",
       "       [9.89643444e-01, 1.03554862e-02, 1.07027995e-06],\n",
       "       [9.89913732e-01, 1.00852294e-02, 1.03881069e-06],\n",
       "       [9.89788183e-01, 1.02107637e-02, 1.05342578e-06],\n",
       "       [9.88565677e-01, 1.14331255e-02, 1.19699068e-06],\n",
       "       [9.89286411e-01, 1.07124769e-02, 1.11193364e-06],\n",
       "       [9.89721048e-01, 1.02778909e-02, 1.06126236e-06],\n",
       "       [9.82790665e-01, 1.72074355e-02, 1.89975778e-06],\n",
       "       [9.89101580e-01, 1.08972864e-02, 1.13384342e-06],\n",
       "       [9.88224033e-01, 1.17747299e-02, 1.23739061e-06],\n",
       "       [9.88278483e-01, 1.17202861e-02, 1.23063915e-06],\n",
       "       [9.88146756e-01, 1.18519975e-02, 1.24639178e-06],\n",
       "       [9.89651898e-01, 1.03470324e-02, 1.06927427e-06],\n",
       "       [9.88865375e-01, 1.11334638e-02, 1.16150520e-06],\n",
       "       [9.89773188e-01, 1.02257568e-02, 1.05514333e-06],\n",
       "       [9.89334550e-01, 1.06643432e-02, 1.10632717e-06],\n",
       "       [1.22587772e-02, 9.86977237e-01, 7.63985956e-04],\n",
       "       [1.01688382e-02, 9.87958354e-01, 1.87280807e-03],\n",
       "       [8.51872478e-03, 9.87888795e-01, 3.59248035e-03],\n",
       "       [5.57688819e-03, 9.69614472e-01, 2.48086401e-02],\n",
       "       [6.98144697e-03, 9.84119285e-01, 8.89926754e-03],\n",
       "       [5.21698574e-03, 9.63892539e-01, 3.08904750e-02],\n",
       "       [7.01469568e-03, 9.83871562e-01, 9.11374266e-03],\n",
       "       [1.57982675e-02, 9.83405540e-01, 7.96192100e-04],\n",
       "       [1.04253031e-02, 9.88050588e-01, 1.52410854e-03],\n",
       "       [6.43832466e-03, 9.77670786e-01, 1.58908896e-02],\n",
       "       [9.28472263e-03, 9.87246375e-01, 3.46890227e-03],\n",
       "       [8.83352525e-03, 9.87361256e-01, 3.80521850e-03],\n",
       "       [1.13268429e-02, 9.87517001e-01, 1.15615657e-03],\n",
       "       [5.27759820e-03, 9.65986610e-01, 2.87357919e-02],\n",
       "       [1.68718539e-02, 9.82531451e-01, 5.96694952e-04],\n",
       "       [1.28754911e-02, 9.86421893e-01, 7.02615738e-04],\n",
       "       [3.70746284e-03, 8.96349567e-01, 9.99429704e-02],\n",
       "       [1.25671349e-02, 9.86581329e-01, 8.51535783e-04],\n",
       "       [2.18538635e-03, 7.10858716e-01, 2.86955897e-01],\n",
       "       [1.11901666e-02, 9.87372436e-01, 1.43739693e-03],\n",
       "       [9.82268487e-04, 4.16335979e-01, 5.82681753e-01],\n",
       "       [1.29373282e-02, 9.86241213e-01, 8.21458719e-04],\n",
       "       [1.14828030e-03, 4.68591714e-01, 5.30260005e-01],\n",
       "       [6.86928987e-03, 9.83639953e-01, 9.49075740e-03],\n",
       "       [1.20999674e-02, 9.86992625e-01, 9.07407189e-04],\n",
       "       [1.18674675e-02, 9.87179137e-01, 9.53395342e-04],\n",
       "       [7.99379744e-03, 9.87275907e-01, 4.73029576e-03],\n",
       "       [3.43011901e-03, 8.78692490e-01, 1.17877391e-01],\n",
       "       [5.51278403e-03, 9.69553924e-01, 2.49332925e-02],\n",
       "       [1.95208821e-02, 9.80073308e-01, 4.05809738e-04],\n",
       "       [1.09655786e-02, 9.87422298e-01, 1.61212311e-03],\n",
       "       [1.32275829e-02, 9.85931177e-01, 8.41240284e-04],\n",
       "       [1.27568650e-02, 9.86326195e-01, 9.16940359e-04],\n",
       "       [1.10058434e-04, 7.53855375e-02, 9.24504404e-01],\n",
       "       [2.49055468e-03, 7.57149475e-01, 2.40359970e-01],\n",
       "       [7.94650799e-03, 9.86231330e-01, 5.82216215e-03],\n",
       "       [9.27136728e-03, 9.88161938e-01, 2.56669503e-03],\n",
       "       [6.58730587e-03, 9.82094264e-01, 1.13184304e-02],\n",
       "       [1.04679331e-02, 9.87514594e-01, 2.01747292e-03],\n",
       "       [7.03233361e-03, 9.83089060e-01, 9.87860678e-03],\n",
       "       [4.74068748e-03, 9.50948810e-01, 4.43105027e-02],\n",
       "       [6.97825990e-03, 9.83810165e-01, 9.21157486e-03],\n",
       "       [1.09063874e-02, 9.87556351e-01, 1.53726152e-03],\n",
       "       [1.52110445e-02, 9.83981820e-01, 8.07135064e-04],\n",
       "       [6.98892629e-03, 9.83169929e-01, 9.84114444e-03],\n",
       "       [1.10773753e-02, 9.87430550e-01, 1.49207422e-03],\n",
       "       [9.16274744e-03, 9.87630457e-01, 3.20679535e-03],\n",
       "       [1.10948570e-02, 9.87589482e-01, 1.31566067e-03],\n",
       "       [2.84121275e-02, 9.71179710e-01, 4.08162392e-04],\n",
       "       [9.53271868e-03, 9.87708311e-01, 2.75897040e-03],\n",
       "       [6.57388817e-06, 7.54692628e-03, 9.92446500e-01],\n",
       "       [1.65534313e-05, 1.60770738e-02, 9.83906373e-01],\n",
       "       [1.69675500e-05, 1.64265005e-02, 9.83556532e-01],\n",
       "       [2.01166546e-05, 1.88775683e-02, 9.81102315e-01],\n",
       "       [8.73747738e-06, 9.53102579e-03, 9.90460237e-01],\n",
       "       [8.96195414e-06, 9.73483453e-03, 9.90256204e-01],\n",
       "       [2.28365754e-05, 2.08565041e-02, 9.79120659e-01],\n",
       "       [1.73203074e-05, 1.67105850e-02, 9.83272095e-01],\n",
       "       [1.23103452e-05, 1.26285841e-02, 9.87359106e-01],\n",
       "       [1.15152804e-05, 1.19530150e-02, 9.88035470e-01],\n",
       "       [3.85559445e-04, 2.05179542e-01, 7.94434899e-01],\n",
       "       [2.88027216e-05, 2.53163401e-02, 9.74654857e-01],\n",
       "       [3.22103065e-05, 2.77442041e-02, 9.72223586e-01],\n",
       "       [1.08726471e-05, 1.13936020e-02, 9.88595525e-01],\n",
       "       [7.87892317e-06, 8.74950971e-03, 9.91242611e-01],\n",
       "       [1.95658701e-05, 1.84343575e-02, 9.81546077e-01],\n",
       "       [6.28741622e-05, 4.78851757e-02, 9.52051950e-01],\n",
       "       [1.76668173e-05, 1.69828937e-02, 9.82999440e-01],\n",
       "       [6.19551015e-06, 7.19007892e-03, 9.92803726e-01],\n",
       "       [5.71034330e-05, 4.42656200e-02, 9.55677277e-01],\n",
       "       [1.60024409e-05, 1.56509632e-02, 9.84333034e-01],\n",
       "       [1.75730169e-05, 1.68661340e-02, 9.83116293e-01],\n",
       "       [8.47499609e-06, 9.29885993e-03, 9.90692665e-01],\n",
       "       [3.00001748e-04, 1.68431277e-01, 8.31268721e-01],\n",
       "       [2.60088169e-05, 2.32918292e-02, 9.76682162e-01],\n",
       "       [9.94720109e-05, 6.95885025e-02, 9.30312026e-01],\n",
       "       [5.94640896e-04, 2.86972139e-01, 7.12433220e-01],\n",
       "       [4.94858841e-04, 2.48999368e-01, 7.50505773e-01],\n",
       "       [9.97838896e-06, 1.06271388e-02, 9.89362883e-01],\n",
       "       [6.40579160e-04, 3.05242315e-01, 6.94117106e-01],\n",
       "       [2.16259376e-05, 2.00431939e-02, 9.79935180e-01],\n",
       "       [4.13113803e-04, 2.17483375e-01, 7.82103511e-01],\n",
       "       [8.73174572e-06, 9.52528995e-03, 9.90465978e-01],\n",
       "       [1.17738503e-03, 4.76995545e-01, 5.21827070e-01],\n",
       "       [3.06872088e-05, 2.66779823e-02, 9.73291330e-01],\n",
       "       [1.52475958e-05, 1.50514698e-02, 9.84933283e-01],\n",
       "       [9.94334178e-06, 1.05915184e-02, 9.89398538e-01],\n",
       "       [6.40468426e-05, 4.86009114e-02, 9.51335042e-01],\n",
       "       [6.25244665e-04, 2.97703799e-01, 7.01670956e-01],\n",
       "       [9.47466169e-05, 6.68111878e-02, 9.33094066e-01],\n",
       "       [1.07039188e-05, 1.12550849e-02, 9.88734211e-01],\n",
       "       [1.40681306e-04, 9.18776221e-02, 9.07981697e-01],\n",
       "       [1.65534313e-05, 1.60770738e-02, 9.83906373e-01],\n",
       "       [9.96030361e-06, 1.06122383e-02, 9.89377801e-01],\n",
       "       [9.61572028e-06, 1.03075829e-02, 9.89682801e-01],\n",
       "       [3.27179709e-05, 2.80783888e-02, 9.71888893e-01],\n",
       "       [4.24831685e-05, 3.47620066e-02, 9.65195510e-01],\n",
       "       [8.97154788e-05, 6.38706995e-02, 9.36039585e-01],\n",
       "       [1.54781733e-05, 1.52132430e-02, 9.84771279e-01],\n",
       "       [6.73260056e-05, 5.05333378e-02, 9.49399336e-01]])"
      ]
     },
     "execution_count": 30,
     "metadata": {},
     "output_type": "execute_result"
    }
   ],
   "source": [
    "#予測結果\n",
    "#学習済みの重み行列とバイアスを用いて順方向の計算を行うことで、既知のデータ・未知のデータに対する予測値を算出できます。\n",
    "\n",
    "net.forward_propagation(X)"
   ]
  },
  {
   "cell_type": "code",
   "execution_count": null,
   "metadata": {},
   "outputs": [],
   "source": []
  }
 ],
 "metadata": {
  "kernelspec": {
   "display_name": "Python 3",
   "language": "python",
   "name": "python3"
  },
  "language_info": {
   "codemirror_mode": {
    "name": "ipython",
    "version": 3
   },
   "file_extension": ".py",
   "mimetype": "text/x-python",
   "name": "python",
   "nbconvert_exporter": "python",
   "pygments_lexer": "ipython3",
   "version": "3.7.4"
  }
 },
 "nbformat": 4,
 "nbformat_minor": 4
}
