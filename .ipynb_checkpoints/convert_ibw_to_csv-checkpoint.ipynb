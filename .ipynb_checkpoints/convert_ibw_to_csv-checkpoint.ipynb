{
 "cells": [
  {
   "cell_type": "markdown",
   "metadata": {},
   "source": [
    "## convert  *.ibw (Igor BinaryWave) files to np.array / CSV using ibw-extractor\n",
    "### ref. \n",
    "- [ibw-extractor](https://github.com/N-Parsons/ibw-extractor)\n",
    "    - https://nparsons.uk/research/scientific-software/ibw-extractor\n",
    "- https://github.com/wking/igor\n",
    "- http://blog.tremily.us/posts/igor/\n",
    "- https://www.umass.edu/healeylab/Igor%20traces%20into%20python.html"
   ]
  },
  {
   "cell_type": "markdown",
   "metadata": {},
   "source": [
    "## 1. convert to np.array"
   ]
  },
  {
   "cell_type": "code",
   "execution_count": 2,
   "metadata": {
    "scrolled": true
   },
   "outputs": [
    {
     "name": "stdout",
     "output_type": "stream",
     "text": [
      "Collecting igor\n",
      "  Downloading igor-0.3.tar.gz (51 kB)\n",
      "\u001b[K     |████████████████████████████████| 51 kB 642 kB/s eta 0:00:011\n",
      "\u001b[?25hBuilding wheels for collected packages: igor\n",
      "  Building wheel for igor (setup.py) ... \u001b[?25ldone\n",
      "\u001b[?25h  Created wheel for igor: filename=igor-0.3-py3-none-any.whl size=52096 sha256=a77a2028e22d1f50688dd5e3ce82a3153dff69db20c5b9da7071c11291685363\n",
      "  Stored in directory: /Users/satoshikawaguchi/Library/Caches/pip/wheels/6f/27/d2/31051f074caeea50e0d11890508c40e9456af990a9350d0fb6\n",
      "Successfully built igor\n",
      "Installing collected packages: igor\n",
      "Successfully installed igor-0.3\n"
     ]
    }
   ],
   "source": [
    "!pip install igor"
   ]
  },
  {
   "cell_type": "code",
   "execution_count": 3,
   "metadata": {},
   "outputs": [],
   "source": [
    "import igor \n",
    "import numpy as np\n",
    "from igor.binarywave import load as loadibw"
   ]
  },
  {
   "cell_type": "code",
   "execution_count": 5,
   "metadata": {},
   "outputs": [],
   "source": [
    "rawdata = loadibw('../../test.ibw')"
   ]
  },
  {
   "cell_type": "code",
   "execution_count": 6,
   "metadata": {
    "scrolled": false
   },
   "outputs": [],
   "source": [
    "data = rawdata['wave']['wData']"
   ]
  },
  {
   "cell_type": "code",
   "execution_count": 7,
   "metadata": {
    "scrolled": false
   },
   "outputs": [
    {
     "data": {
      "text/plain": [
       "numpy.ndarray"
      ]
     },
     "execution_count": 7,
     "metadata": {},
     "output_type": "execute_result"
    }
   ],
   "source": [
    "type(data)"
   ]
  },
  {
   "cell_type": "code",
   "execution_count": 8,
   "metadata": {
    "scrolled": true
   },
   "outputs": [
    {
     "data": {
      "text/plain": [
       "array([[ 3.42519784,  1.57229447,  0.29816639, ...,  4.39412689,\n",
       "         3.16646242,  0.02867652],\n",
       "       [ 4.56215334,  1.31604934, -0.38405767, ...,  3.65186119,\n",
       "         2.08074069,  0.26643959],\n",
       "       [ 3.95451999,  0.83322746, -0.40317187, ...,  2.20137691,\n",
       "         0.43347171, -0.22893849],\n",
       "       ...,\n",
       "       [ 0.56631231, -5.49389172,  0.7899552 , ...,  2.01986408,\n",
       "         5.0283823 ,  1.48060918],\n",
       "       [ 1.89786708, -3.90137076,  0.97376233, ...,  1.22370434,\n",
       "         2.03099847,  2.46983624],\n",
       "       [ 2.22968912, -0.85795492,  1.62968457, ..., -0.3730191 ,\n",
       "        -1.25379157,  2.67634487]])"
      ]
     },
     "execution_count": 8,
     "metadata": {},
     "output_type": "execute_result"
    }
   ],
   "source": [
    "data"
   ]
  },
  {
   "cell_type": "code",
   "execution_count": 18,
   "metadata": {},
   "outputs": [
    {
     "data": {
      "text/plain": [
       "(200, 81)"
      ]
     },
     "execution_count": 18,
     "metadata": {},
     "output_type": "execute_result"
    }
   ],
   "source": [
    "data.shape"
   ]
  },
  {
   "cell_type": "markdown",
   "metadata": {},
   "source": [
    "Now you have converted to np.array!"
   ]
  },
  {
   "cell_type": "markdown",
   "metadata": {},
   "source": [
    "## 2. convert to CSV\n",
    "1. Download ibw-extractor.py\n",
    "    - https://github.com/N-Parsons/ibw-extractor/blob/master/ibw-extractor.py\n",
    "2. Placed in the same directory\n",
    "3. Run"
   ]
  },
  {
   "cell_type": "code",
   "execution_count": 11,
   "metadata": {
    "scrolled": false
   },
   "outputs": [
    {
     "name": "stdout",
     "output_type": "stream",
     "text": [
      "Collecting click\n",
      "  Using cached click-7.1.2-py2.py3-none-any.whl (82 kB)\n",
      "Installing collected packages: click\n",
      "Successfully installed click-7.1.2\n"
     ]
    }
   ],
   "source": [
    "!pip install click"
   ]
  },
  {
   "cell_type": "code",
   "execution_count": 14,
   "metadata": {
    "scrolled": false
   },
   "outputs": [
    {
     "name": "stdout",
     "output_type": "stream",
     "text": [
      "Usage: ibw-extractor.py [OPTIONS] [INFILES]...\r\n",
      "\r\n",
      "Options:\r\n",
      "  -o, --outfile TEXT              Output filename\r\n",
      "  -f, --outformat [csv|tsv|json|dump]\r\n",
      "                                  Output format\r\n",
      "  -d, --outdir TEXT               Output file directory (relative to input\r\n",
      "                                  file/folder)\r\n",
      "\r\n",
      "  --clobber                       Force overwrite without confirmation\r\n",
      "  --headers                       Include column headers in csv/tsv output\r\n",
      "  --recursive                     Recurse into sub-folders\r\n",
      "  --minimise                      Minimise JSON file size by removing\r\n",
      "                                  structure\r\n",
      "\r\n",
      "  --version                       Show the version and exit.\r\n",
      "  --help                          Show this message and exit.\r\n"
     ]
    }
   ],
   "source": [
    "!python ibw-extractor-master/ibw-extractor.py --help"
   ]
  },
  {
   "cell_type": "markdown",
   "metadata": {},
   "source": [
    "Usageは↑に書いてある通り"
   ]
  },
  {
   "cell_type": "code",
   "execution_count": 15,
   "metadata": {
    "scrolled": true
   },
   "outputs": [
    {
     "name": "stdout",
     "output_type": "stream",
     "text": [
      "Warning: stored filename differs from input file name\r\n",
      "Input filename: test\r\n",
      "Stored filename: wav (.ibw)\r\n"
     ]
    }
   ],
   "source": [
    "!python ibw-extractor-master/ibw-extractor.py ../../test.ibw -o test -f csv"
   ]
  },
  {
   "cell_type": "code",
   "execution_count": 17,
   "metadata": {
    "scrolled": false
   },
   "outputs": [
    {
     "data": {
      "text/html": [
       "<div>\n",
       "<style scoped>\n",
       "    .dataframe tbody tr th:only-of-type {\n",
       "        vertical-align: middle;\n",
       "    }\n",
       "\n",
       "    .dataframe tbody tr th {\n",
       "        vertical-align: top;\n",
       "    }\n",
       "\n",
       "    .dataframe thead th {\n",
       "        text-align: right;\n",
       "    }\n",
       "</style>\n",
       "<table border=\"1\" class=\"dataframe\">\n",
       "  <thead>\n",
       "    <tr style=\"text-align: right;\">\n",
       "      <th></th>\n",
       "      <th>0</th>\n",
       "      <th>1</th>\n",
       "      <th>2</th>\n",
       "      <th>3</th>\n",
       "      <th>4</th>\n",
       "      <th>5</th>\n",
       "      <th>6</th>\n",
       "      <th>7</th>\n",
       "      <th>8</th>\n",
       "      <th>9</th>\n",
       "      <th>...</th>\n",
       "      <th>71</th>\n",
       "      <th>72</th>\n",
       "      <th>73</th>\n",
       "      <th>74</th>\n",
       "      <th>75</th>\n",
       "      <th>76</th>\n",
       "      <th>77</th>\n",
       "      <th>78</th>\n",
       "      <th>79</th>\n",
       "      <th>80</th>\n",
       "    </tr>\n",
       "  </thead>\n",
       "  <tbody>\n",
       "    <tr>\n",
       "      <th>0</th>\n",
       "      <td>3.425198</td>\n",
       "      <td>1.572294</td>\n",
       "      <td>0.298166</td>\n",
       "      <td>-1.978210</td>\n",
       "      <td>-3.310848</td>\n",
       "      <td>5.854188</td>\n",
       "      <td>0.914698</td>\n",
       "      <td>-1.358608</td>\n",
       "      <td>-2.454548</td>\n",
       "      <td>-1.976836</td>\n",
       "      <td>...</td>\n",
       "      <td>-1.564977</td>\n",
       "      <td>3.154705</td>\n",
       "      <td>-6.631995</td>\n",
       "      <td>1.978856</td>\n",
       "      <td>-0.548837</td>\n",
       "      <td>-4.320058</td>\n",
       "      <td>-3.050685</td>\n",
       "      <td>4.394127</td>\n",
       "      <td>3.166462</td>\n",
       "      <td>0.028677</td>\n",
       "    </tr>\n",
       "    <tr>\n",
       "      <th>1</th>\n",
       "      <td>4.562153</td>\n",
       "      <td>1.316049</td>\n",
       "      <td>-0.384058</td>\n",
       "      <td>-2.096621</td>\n",
       "      <td>-3.690575</td>\n",
       "      <td>3.851393</td>\n",
       "      <td>0.572522</td>\n",
       "      <td>-0.196288</td>\n",
       "      <td>-3.624415</td>\n",
       "      <td>-1.140985</td>\n",
       "      <td>...</td>\n",
       "      <td>0.907130</td>\n",
       "      <td>0.482388</td>\n",
       "      <td>-5.613552</td>\n",
       "      <td>1.989735</td>\n",
       "      <td>0.802809</td>\n",
       "      <td>-4.259558</td>\n",
       "      <td>-2.728602</td>\n",
       "      <td>3.651861</td>\n",
       "      <td>2.080741</td>\n",
       "      <td>0.266440</td>\n",
       "    </tr>\n",
       "    <tr>\n",
       "      <th>2</th>\n",
       "      <td>3.954520</td>\n",
       "      <td>0.833227</td>\n",
       "      <td>-0.403172</td>\n",
       "      <td>-1.131292</td>\n",
       "      <td>-4.847641</td>\n",
       "      <td>1.028750</td>\n",
       "      <td>0.877725</td>\n",
       "      <td>-0.076462</td>\n",
       "      <td>-5.203693</td>\n",
       "      <td>0.210380</td>\n",
       "      <td>...</td>\n",
       "      <td>2.527453</td>\n",
       "      <td>-1.717203</td>\n",
       "      <td>-3.207076</td>\n",
       "      <td>1.410921</td>\n",
       "      <td>1.403507</td>\n",
       "      <td>-2.876225</td>\n",
       "      <td>-1.781927</td>\n",
       "      <td>2.201377</td>\n",
       "      <td>0.433472</td>\n",
       "      <td>-0.228938</td>\n",
       "    </tr>\n",
       "    <tr>\n",
       "      <th>3</th>\n",
       "      <td>2.224784</td>\n",
       "      <td>1.110723</td>\n",
       "      <td>0.020628</td>\n",
       "      <td>0.572453</td>\n",
       "      <td>-6.267338</td>\n",
       "      <td>-1.497695</td>\n",
       "      <td>0.684337</td>\n",
       "      <td>-0.248929</td>\n",
       "      <td>-6.053389</td>\n",
       "      <td>1.526610</td>\n",
       "      <td>...</td>\n",
       "      <td>2.697882</td>\n",
       "      <td>-2.441575</td>\n",
       "      <td>-0.851990</td>\n",
       "      <td>-0.363472</td>\n",
       "      <td>0.553998</td>\n",
       "      <td>-1.081825</td>\n",
       "      <td>-0.526619</td>\n",
       "      <td>0.287054</td>\n",
       "      <td>-0.989776</td>\n",
       "      <td>-1.461332</td>\n",
       "    </tr>\n",
       "    <tr>\n",
       "      <th>4</th>\n",
       "      <td>0.697397</td>\n",
       "      <td>2.296076</td>\n",
       "      <td>0.509728</td>\n",
       "      <td>2.383786</td>\n",
       "      <td>-6.814178</td>\n",
       "      <td>-2.920656</td>\n",
       "      <td>-0.896872</td>\n",
       "      <td>-0.102664</td>\n",
       "      <td>-5.471088</td>\n",
       "      <td>2.192754</td>\n",
       "      <td>...</td>\n",
       "      <td>1.864797</td>\n",
       "      <td>-1.958328</td>\n",
       "      <td>0.297646</td>\n",
       "      <td>-3.093358</td>\n",
       "      <td>-1.358550</td>\n",
       "      <td>0.144503</td>\n",
       "      <td>0.564435</td>\n",
       "      <td>-1.544175</td>\n",
       "      <td>-1.727440</td>\n",
       "      <td>-2.651422</td>\n",
       "    </tr>\n",
       "  </tbody>\n",
       "</table>\n",
       "<p>5 rows × 81 columns</p>\n",
       "</div>"
      ],
      "text/plain": [
       "         0         1         2         3         4         5         6   \\\n",
       "0  3.425198  1.572294  0.298166 -1.978210 -3.310848  5.854188  0.914698   \n",
       "1  4.562153  1.316049 -0.384058 -2.096621 -3.690575  3.851393  0.572522   \n",
       "2  3.954520  0.833227 -0.403172 -1.131292 -4.847641  1.028750  0.877725   \n",
       "3  2.224784  1.110723  0.020628  0.572453 -6.267338 -1.497695  0.684337   \n",
       "4  0.697397  2.296076  0.509728  2.383786 -6.814178 -2.920656 -0.896872   \n",
       "\n",
       "         7         8         9   ...        71        72        73        74  \\\n",
       "0 -1.358608 -2.454548 -1.976836  ... -1.564977  3.154705 -6.631995  1.978856   \n",
       "1 -0.196288 -3.624415 -1.140985  ...  0.907130  0.482388 -5.613552  1.989735   \n",
       "2 -0.076462 -5.203693  0.210380  ...  2.527453 -1.717203 -3.207076  1.410921   \n",
       "3 -0.248929 -6.053389  1.526610  ...  2.697882 -2.441575 -0.851990 -0.363472   \n",
       "4 -0.102664 -5.471088  2.192754  ...  1.864797 -1.958328  0.297646 -3.093358   \n",
       "\n",
       "         75        76        77        78        79        80  \n",
       "0 -0.548837 -4.320058 -3.050685  4.394127  3.166462  0.028677  \n",
       "1  0.802809 -4.259558 -2.728602  3.651861  2.080741  0.266440  \n",
       "2  1.403507 -2.876225 -1.781927  2.201377  0.433472 -0.228938  \n",
       "3  0.553998 -1.081825 -0.526619  0.287054 -0.989776 -1.461332  \n",
       "4 -1.358550  0.144503  0.564435 -1.544175 -1.727440 -2.651422  \n",
       "\n",
       "[5 rows x 81 columns]"
      ]
     },
     "execution_count": 17,
     "metadata": {},
     "output_type": "execute_result"
    }
   ],
   "source": [
    "#check create csv data\n",
    "import pandas as pd\n",
    "\n",
    "df = pd.read_csv('../../test.csv',sep=',',header=None)\n",
    "df.head()"
   ]
  },
  {
   "cell_type": "code",
   "execution_count": 19,
   "metadata": {},
   "outputs": [
    {
     "data": {
      "text/plain": [
       "(200, 81)"
      ]
     },
     "execution_count": 19,
     "metadata": {},
     "output_type": "execute_result"
    }
   ],
   "source": [
    "df.shape"
   ]
  },
  {
   "cell_type": "markdown",
   "metadata": {},
   "source": [
    "Now you have converted to csv!"
   ]
  },
  {
   "cell_type": "code",
   "execution_count": null,
   "metadata": {},
   "outputs": [],
   "source": []
  }
 ],
 "metadata": {
  "kernelspec": {
   "display_name": "Python 3",
   "language": "python",
   "name": "python3"
  },
  "language_info": {
   "codemirror_mode": {
    "name": "ipython",
    "version": 3
   },
   "file_extension": ".py",
   "mimetype": "text/x-python",
   "name": "python",
   "nbconvert_exporter": "python",
   "pygments_lexer": "ipython3",
   "version": "3.7.4"
  }
 },
 "nbformat": 4,
 "nbformat_minor": 4
}
