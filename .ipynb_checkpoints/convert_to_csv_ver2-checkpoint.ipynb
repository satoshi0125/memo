{
 "cells": [
  {
   "cell_type": "markdown",
   "metadata": {},
   "source": [
    "### convert  *.ibw (Igor BinaryWave) files to np.array / CSV using ibw-extractor\n",
    "### ref. \n",
    "- [ibw-extractor](https://github.com/N-Parsons/ibw-extractor)\n",
    "    - https://nparsons.uk/research/scientific-software/ibw-extractor\n",
    "- https://github.com/wking/igor\n",
    "- http://blog.tremily.us/posts/igor/\n",
    "- https://www.umass.edu/healeylab/Igor%20traces%20into%20python.html"
   ]
  },
  {
   "cell_type": "markdown",
   "metadata": {},
   "source": [
    "### 1. convert to np.array"
   ]
  },
  {
   "cell_type": "code",
   "execution_count": 2,
   "metadata": {
    "scrolled": true
   },
   "outputs": [
    {
     "name": "stdout",
     "output_type": "stream",
     "text": [
      "Requirement already satisfied: igor in c:\\users\\pc44\\anaconda3\\lib\\site-packages (0.3)\n"
     ]
    }
   ],
   "source": [
    "!pip install igor"
   ]
  },
  {
   "cell_type": "code",
   "execution_count": 3,
   "metadata": {},
   "outputs": [],
   "source": [
    "import igor "
   ]
  },
  {
   "cell_type": "code",
   "execution_count": 5,
   "metadata": {},
   "outputs": [],
   "source": [
    "from igor.binarywave import load as loadibw\n",
    "import numpy as np"
   ]
  },
  {
   "cell_type": "code",
   "execution_count": 12,
   "metadata": {},
   "outputs": [],
   "source": [
    "rawdata = loadibw('../../A_9-1-1_191031_70.ibw')"
   ]
  },
  {
   "cell_type": "code",
   "execution_count": 14,
   "metadata": {
    "scrolled": false
   },
   "outputs": [],
   "source": [
    "data = rawdata['wave']['wData']"
   ]
  },
  {
   "cell_type": "code",
   "execution_count": 15,
   "metadata": {},
   "outputs": [
    {
     "data": {
      "text/plain": [
       "numpy.ndarray"
      ]
     },
     "execution_count": 15,
     "metadata": {},
     "output_type": "execute_result"
    }
   ],
   "source": [
    "type(data)"
   ]
  },
  {
   "cell_type": "code",
   "execution_count": 16,
   "metadata": {
    "scrolled": true
   },
   "outputs": [
    {
     "data": {
      "text/plain": [
       "array([[  7.07652426,   2.62991071,  -6.79942894, ...,   6.17951965,\n",
       "          8.31926632,   4.00197601],\n",
       "       [ 13.11716747,   9.82894325,   2.57738996, ...,   3.74796343,\n",
       "         10.66777134,   7.51579666],\n",
       "       [ 11.43000984,  11.83893681,  10.91530323, ...,   0.08497461,\n",
       "          7.5106039 ,   7.47975397],\n",
       "       ...,\n",
       "       [  2.68770266,  14.73446846,   7.62896824, ...,   1.0860306 ,\n",
       "        -10.72317982,  -9.10786247],\n",
       "       [  1.18359315,  15.19103909,   7.51982069, ...,   7.28066349,\n",
       "         -7.32867718,   1.33695257],\n",
       "       [ -1.5964886 ,   7.0430007 ,   2.65557623, ...,   9.33802891,\n",
       "         -0.35444364,   9.95083618]])"
      ]
     },
     "execution_count": 16,
     "metadata": {},
     "output_type": "execute_result"
    }
   ],
   "source": [
    "data"
   ]
  },
  {
   "cell_type": "markdown",
   "metadata": {},
   "source": [
    "### 2. convert to CSV"
   ]
  },
  {
   "cell_type": "code",
   "execution_count": 1,
   "metadata": {
    "scrolled": false
   },
   "outputs": [
    {
     "name": "stdout",
     "output_type": "stream",
     "text": [
      "No input files specified. Aborting.\n"
     ]
    }
   ],
   "source": [
    "!python ibw-extractor-master/ibw-extractor.py "
   ]
  },
  {
   "cell_type": "code",
   "execution_count": 2,
   "metadata": {
    "scrolled": false
   },
   "outputs": [
    {
     "name": "stdout",
     "output_type": "stream",
     "text": [
      "Usage: ibw-extractor.py [OPTIONS] [INFILES]...\n",
      "\n",
      "Options:\n",
      "  -o, --outfile TEXT              Output filename\n",
      "  -f, --outformat [csv|tsv|json|dump]\n",
      "                                  Output format\n",
      "  -d, --outdir TEXT               Output file directory (relative to input\n",
      "                                  file/folder)\n",
      "  --clobber                       Force overwrite without confirmation\n",
      "  --headers                       Include column headers in csv/tsv output\n",
      "  --recursive                     Recurse into sub-folders\n",
      "  --minimise                      Minimise JSON file size by removing\n",
      "                                  structure\n",
      "  --version                       Show the version and exit.\n",
      "  --help                          Show this message and exit.\n"
     ]
    }
   ],
   "source": [
    "!python ibw-extractor-master/ibw-extractor.py --help"
   ]
  },
  {
   "cell_type": "code",
   "execution_count": 3,
   "metadata": {
    "scrolled": true
   },
   "outputs": [
    {
     "name": "stdout",
     "output_type": "stream",
     "text": [
      "Output format not specified or implied\n"
     ]
    }
   ],
   "source": [
    "!python ibw-extractor-master/ibw-extractor.py A_9-1-1_191031_70.ibw"
   ]
  },
  {
   "cell_type": "code",
   "execution_count": 5,
   "metadata": {
    "scrolled": false
   },
   "outputs": [
    {
     "name": "stdout",
     "output_type": "stream",
     "text": [
      "Warning: stored filename differs from input file name\n",
      "Input filename: A_9-1-1_191031_70\n",
      "Stored filename: wav (.ibw)\n"
     ]
    }
   ],
   "source": [
    "!python ibw-extractor-master/ibw-extractor.py A_9-1-1_191031_70.ibw -o hoge -f csv"
   ]
  },
  {
   "cell_type": "code",
   "execution_count": 6,
   "metadata": {},
   "outputs": [
    {
     "ename": "SyntaxError",
     "evalue": "invalid syntax (<ipython-input-6-0b9137ef9558>, line 1)",
     "output_type": "error",
     "traceback": [
      "\u001b[1;36m  File \u001b[1;32m\"<ipython-input-6-0b9137ef9558>\"\u001b[1;36m, line \u001b[1;32m1\u001b[0m\n\u001b[1;33m    ibw-extractor-master/ibw-extractor.py A_9-1-1_191031_70.ibw -o test -f csv\u001b[0m\n\u001b[1;37m                                            ^\u001b[0m\n\u001b[1;31mSyntaxError\u001b[0m\u001b[1;31m:\u001b[0m invalid syntax\n"
     ]
    }
   ],
   "source": [
    "\n",
    "!python ibw-extractor-master/ibw-extractor.py A_9-1-1_191031_70.ibw -o test -f csv"
   ]
  },
  {
   "cell_type": "code",
   "execution_count": null,
   "metadata": {},
   "outputs": [],
   "source": []
  }
 ],
 "metadata": {
  "kernelspec": {
   "display_name": "Python 3",
   "language": "python",
   "name": "python3"
  },
  "language_info": {
   "codemirror_mode": {
    "name": "ipython",
    "version": 3
   },
   "file_extension": ".py",
   "mimetype": "text/x-python",
   "name": "python",
   "nbconvert_exporter": "python",
   "pygments_lexer": "ipython3",
   "version": "3.7.6"
  }
 },
 "nbformat": 4,
 "nbformat_minor": 4
}
