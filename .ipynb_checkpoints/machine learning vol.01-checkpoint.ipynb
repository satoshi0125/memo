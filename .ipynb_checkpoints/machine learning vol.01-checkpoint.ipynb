{
 "cells": [
  {
   "cell_type": "markdown",
   "metadata": {},
   "source": [
    "# 機械学習メモ\n",
    "### 背景\n",
    "「機械学習を散々勉強してきたんですが、数式の中身を理解せずに使うのってどうなの？」\n",
    "\n",
    "という疑問から**数式から理解する機械学習**をやってみようかなと思います。\n",
    "\n",
    "\n",
    "```math\n",
    "e^{i/pi} =-1\n",
    "```"
   ]
  },
  {
   "cell_type": "code",
   "execution_count": null,
   "metadata": {},
   "outputs": [],
   "source": []
  }
 ],
 "metadata": {
  "kernelspec": {
   "display_name": "Python 3",
   "language": "python",
   "name": "python3"
  },
  "language_info": {
   "codemirror_mode": {
    "name": "ipython",
    "version": 3
   },
   "file_extension": ".py",
   "mimetype": "text/x-python",
   "name": "python",
   "nbconvert_exporter": "python",
   "pygments_lexer": "ipython3",
   "version": "3.7.6"
  }
 },
 "nbformat": 4,
 "nbformat_minor": 4
}
