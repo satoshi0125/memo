{
 "cells": [
  {
   "cell_type": "markdown",
   "metadata": {},
   "source": [
    "### skleanとかそういう機械学習ライブラリを使わずに、MLPしてみたい\n",
    "\n",
    "## MLP\n",
    "使うデータは、よくあるirisデータ"
   ]
  },
  {
   "cell_type": "code",
   "execution_count": 39,
   "metadata": {
    "scrolled": true
   },
   "outputs": [
    {
     "data": {
      "text/html": [
       "<style>.container { width:100% !important; }</style>"
      ],
      "text/plain": [
       "<IPython.core.display.HTML object>"
      ]
     },
     "metadata": {},
     "output_type": "display_data"
    }
   ],
   "source": [
    "from IPython.core.display import display, HTML\n",
    "display(HTML(\"<style>.container { width:100% !important; }</style>\"))"
   ]
  },
  {
   "cell_type": "code",
   "execution_count": 1,
   "metadata": {},
   "outputs": [],
   "source": [
    "import numpy as np\n",
    "import pandas as pd\n",
    "import urllib.request \n",
    "import matplotlib.pyplot as plt\n",
    "%matplotlib inline"
   ]
  },
  {
   "cell_type": "code",
   "execution_count": 4,
   "metadata": {
    "scrolled": true
   },
   "outputs": [
    {
     "data": {
      "text/plain": [
       "('iris.txt', <http.client.HTTPMessage at 0x11c23cd10>)"
      ]
     },
     "execution_count": 4,
     "metadata": {},
     "output_type": "execute_result"
    }
   ],
   "source": [
    "url = \"https://raw.githubusercontent.com/maskot1977/ipython_notebook/master/toydata/iris.txt\"\n",
    "urllib.request.urlretrieve(url, 'iris.txt') "
   ]
  },
  {
   "cell_type": "code",
   "execution_count": 5,
   "metadata": {
    "scrolled": false
   },
   "outputs": [
    {
     "name": "stdout",
     "output_type": "stream",
     "text": [
      "(150, 5)\n"
     ]
    },
    {
     "data": {
      "text/html": [
       "<div>\n",
       "<style scoped>\n",
       "    .dataframe tbody tr th:only-of-type {\n",
       "        vertical-align: middle;\n",
       "    }\n",
       "\n",
       "    .dataframe tbody tr th {\n",
       "        vertical-align: top;\n",
       "    }\n",
       "\n",
       "    .dataframe thead th {\n",
       "        text-align: right;\n",
       "    }\n",
       "</style>\n",
       "<table border=\"1\" class=\"dataframe\">\n",
       "  <thead>\n",
       "    <tr style=\"text-align: right;\">\n",
       "      <th></th>\n",
       "      <th>Sepal.Length</th>\n",
       "      <th>Sepal.Width</th>\n",
       "      <th>Petal.Length</th>\n",
       "      <th>Petal.Width</th>\n",
       "      <th>Species</th>\n",
       "    </tr>\n",
       "  </thead>\n",
       "  <tbody>\n",
       "    <tr>\n",
       "      <th>1</th>\n",
       "      <td>5.1</td>\n",
       "      <td>3.5</td>\n",
       "      <td>1.4</td>\n",
       "      <td>0.2</td>\n",
       "      <td>0</td>\n",
       "    </tr>\n",
       "    <tr>\n",
       "      <th>2</th>\n",
       "      <td>4.9</td>\n",
       "      <td>3.0</td>\n",
       "      <td>1.4</td>\n",
       "      <td>0.2</td>\n",
       "      <td>0</td>\n",
       "    </tr>\n",
       "    <tr>\n",
       "      <th>3</th>\n",
       "      <td>4.7</td>\n",
       "      <td>3.2</td>\n",
       "      <td>1.3</td>\n",
       "      <td>0.2</td>\n",
       "      <td>0</td>\n",
       "    </tr>\n",
       "    <tr>\n",
       "      <th>4</th>\n",
       "      <td>4.6</td>\n",
       "      <td>3.1</td>\n",
       "      <td>1.5</td>\n",
       "      <td>0.2</td>\n",
       "      <td>0</td>\n",
       "    </tr>\n",
       "    <tr>\n",
       "      <th>5</th>\n",
       "      <td>5.0</td>\n",
       "      <td>3.6</td>\n",
       "      <td>1.4</td>\n",
       "      <td>0.2</td>\n",
       "      <td>0</td>\n",
       "    </tr>\n",
       "  </tbody>\n",
       "</table>\n",
       "</div>"
      ],
      "text/plain": [
       "   Sepal.Length  Sepal.Width  Petal.Length  Petal.Width  Species\n",
       "1           5.1          3.5           1.4          0.2        0\n",
       "2           4.9          3.0           1.4          0.2        0\n",
       "3           4.7          3.2           1.3          0.2        0\n",
       "4           4.6          3.1           1.5          0.2        0\n",
       "5           5.0          3.6           1.4          0.2        0"
      ]
     },
     "execution_count": 5,
     "metadata": {},
     "output_type": "execute_result"
    }
   ],
   "source": [
    "df = pd.read_csv(\"iris.txt\", sep=\"\\t\", index_col=0)\n",
    "print(df.shape) # 何行何列か確認する\n",
    "df.head() # 先頭五行の内容を確認する"
   ]
  },
  {
   "cell_type": "markdown",
   "metadata": {},
   "source": [
    "### よくある手法① scikit-lean"
   ]
  },
  {
   "cell_type": "code",
   "execution_count": 6,
   "metadata": {},
   "outputs": [],
   "source": [
    "X = np.array(df.iloc[:, :4].values) \n",
    "Y = np.array(df.iloc[:, 4])"
   ]
  },
  {
   "cell_type": "code",
   "execution_count": 8,
   "metadata": {
    "scrolled": true
   },
   "outputs": [
    {
     "data": {
      "text/plain": [
       "0.9733333333333334"
      ]
     },
     "execution_count": 8,
     "metadata": {},
     "output_type": "execute_result"
    }
   ],
   "source": [
    "from sklearn.neural_network import MLPClassifier\n",
    "clf = MLPClassifier(max_iter=10000)\n",
    "clf.fit(X, Y)\n",
    "clf.score(X, Y)　#accuracy score"
   ]
  },
  {
   "cell_type": "code",
   "execution_count": 10,
   "metadata": {
    "scrolled": true
   },
   "outputs": [
    {
     "data": {
      "image/png": "[encoded data removed]",
      "text/plain": [
       "<Figure size 432x288 with 1 Axes>"
      ]
     },
     "metadata": {
      "needs_background": "light"
     },
     "output_type": "display_data"
    }
   ],
   "source": [
    "#ロス（教師データと予測データとのズレ）が収束するか調べる\n",
    "plt.title(\"Loss Curve\")\n",
    "plt.plot(clf.loss_curve_)\n",
    "plt.xlabel(\"Iteration\")\n",
    "plt.ylabel(\"Loss\")\n",
    "plt.grid()\n",
    "plt.show()"
   ]
  },
  {
   "cell_type": "code",
   "execution_count": 11,
   "metadata": {
    "scrolled": false
   },
   "outputs": [
    {
     "data": {
      "text/plain": [
       "<bound method BaseEstimator.get_params of MLPClassifier(activation='relu', alpha=0.0001, batch_size='auto', beta_1=0.9,\n",
       "              beta_2=0.999, early_stopping=False, epsilon=1e-08,\n",
       "              hidden_layer_sizes=(100,), learning_rate='constant',\n",
       "              learning_rate_init=0.001, max_iter=10000, momentum=0.9,\n",
       "              n_iter_no_change=10, nesterovs_momentum=True, power_t=0.5,\n",
       "              random_state=None, shuffle=True, solver='adam', tol=0.0001,\n",
       "              validation_fraction=0.1, verbose=False, warm_start=False)>"
      ]
     },
     "execution_count": 11,
     "metadata": {},
     "output_type": "execute_result"
    }
   ],
   "source": [
    "#作成したモデルのパラメータ\n",
    "clf.get_params"
   ]
  },
  {
   "cell_type": "code",
   "execution_count": 12,
   "metadata": {},
   "outputs": [
    {
     "data": {
      "text/plain": [
       "array([0, 0, 0, 0, 0, 0, 0, 0, 0, 0, 0, 0, 0, 0, 0, 0, 0, 0, 0, 0, 0, 0,\n",
       "       0, 0, 0, 0, 0, 0, 0, 0, 0, 0, 0, 0, 0, 0, 0, 0, 0, 0, 0, 0, 0, 0,\n",
       "       0, 0, 0, 0, 0, 0, 1, 1, 1, 1, 1, 1, 1, 1, 1, 1, 1, 1, 1, 1, 1, 1,\n",
       "       1, 1, 1, 1, 2, 1, 2, 1, 1, 1, 1, 1, 1, 1, 1, 1, 1, 2, 1, 1, 1, 1,\n",
       "       1, 1, 1, 1, 1, 1, 1, 1, 1, 1, 1, 1, 2, 2, 2, 2, 2, 2, 2, 2, 2, 2,\n",
       "       2, 2, 2, 2, 2, 2, 2, 2, 2, 2, 2, 2, 2, 2, 2, 2, 2, 2, 2, 2, 2, 2,\n",
       "       2, 1, 2, 2, 2, 2, 2, 2, 2, 2, 2, 2, 2, 2, 2, 2, 2, 2])"
      ]
     },
     "execution_count": 12,
     "metadata": {},
     "output_type": "execute_result"
    }
   ],
   "source": [
    "#予測結果\n",
    "clf.predict(X)"
   ]
  },
  {
   "cell_type": "code",
   "execution_count": 13,
   "metadata": {
    "scrolled": false
   },
   "outputs": [
    {
     "data": {
      "text/html": [
       "<div>\n",
       "<style scoped>\n",
       "    .dataframe tbody tr th:only-of-type {\n",
       "        vertical-align: middle;\n",
       "    }\n",
       "\n",
       "    .dataframe tbody tr th {\n",
       "        vertical-align: top;\n",
       "    }\n",
       "\n",
       "    .dataframe thead th {\n",
       "        text-align: right;\n",
       "    }\n",
       "</style>\n",
       "<table border=\"1\" class=\"dataframe\">\n",
       "  <thead>\n",
       "    <tr style=\"text-align: right;\">\n",
       "      <th></th>\n",
       "      <th>0</th>\n",
       "      <th>1</th>\n",
       "      <th>2</th>\n",
       "    </tr>\n",
       "  </thead>\n",
       "  <tbody>\n",
       "    <tr>\n",
       "      <th>0</th>\n",
       "      <td>0.999230</td>\n",
       "      <td>0.000770</td>\n",
       "      <td>9.518924e-15</td>\n",
       "    </tr>\n",
       "    <tr>\n",
       "      <th>1</th>\n",
       "      <td>0.997262</td>\n",
       "      <td>0.002738</td>\n",
       "      <td>3.129361e-13</td>\n",
       "    </tr>\n",
       "    <tr>\n",
       "      <th>2</th>\n",
       "      <td>0.998635</td>\n",
       "      <td>0.001365</td>\n",
       "      <td>9.220638e-14</td>\n",
       "    </tr>\n",
       "    <tr>\n",
       "      <th>3</th>\n",
       "      <td>0.996265</td>\n",
       "      <td>0.003735</td>\n",
       "      <td>1.096605e-12</td>\n",
       "    </tr>\n",
       "    <tr>\n",
       "      <th>4</th>\n",
       "      <td>0.999351</td>\n",
       "      <td>0.000649</td>\n",
       "      <td>7.638195e-15</td>\n",
       "    </tr>\n",
       "  </tbody>\n",
       "</table>\n",
       "</div>"
      ],
      "text/plain": [
       "          0         1             2\n",
       "0  0.999230  0.000770  9.518924e-15\n",
       "1  0.997262  0.002738  3.129361e-13\n",
       "2  0.998635  0.001365  9.220638e-14\n",
       "3  0.996265  0.003735  1.096605e-12\n",
       "4  0.999351  0.000649  7.638195e-15"
      ]
     },
     "execution_count": 13,
     "metadata": {},
     "output_type": "execute_result"
    }
   ],
   "source": [
    "#それぞれの予測に対する自信のほど\n",
    "pd.DataFrame(clf.predict_proba(X)).head()"
   ]
  },
  {
   "cell_type": "markdown",
   "metadata": {},
   "source": [
    "### scikit-learnを使わない方法"
   ]
  },
  {
   "cell_type": "code",
   "execution_count": 14,
   "metadata": {},
   "outputs": [],
   "source": [
    "def one_hot_vectors(V): # one hot vector に変換する\n",
    "    T = pd.DataFrame([])\n",
    "    T[0] = [1 if v == 0 else 0 for v in V]\n",
    "    T[1] = [1 if v == 1 else 0 for v in V]\n",
    "    T[2] = [1 if v == 2 else 0 for v in V]\n",
    "    return np.array(T)"
   ]
  },
  {
   "cell_type": "code",
   "execution_count": 15,
   "metadata": {},
   "outputs": [],
   "source": [
    "X = np.array(df.iloc[:, :4].values)\n",
    "Y = one_hot_vectors(df.iloc[:, 4])"
   ]
  },
  {
   "cell_type": "markdown",
   "metadata": {},
   "source": [
    "自前MLPの作成"
   ]
  },
  {
   "cell_type": "code",
   "execution_count": 17,
   "metadata": {},
   "outputs": [],
   "source": [
    "class MyMLP:\n",
    "    def __init__(self, input_layer_size, hidden_layer_size, output_layer_size):\n",
    "        init_weight = 0.01 # ランダムな初期値に対してちょっとバラツキを控えめにする\n",
    "\n",
    "        # 隠れ層の重み行列W1とバイアスb1にランダムな初期値を与える\n",
    "        self.W1 = init_weight * np.random.randn(input_layer_size, hidden_layer_size)\n",
    "        self.b1 = np.zeros(hidden_layer_size)\n",
    "        self.a1 = [] # 隠れ層が保持する値（シグモイド関数による変換前）\n",
    "        self.z1 = [] # 隠れ層が保持する値（シグモイド関数による変換後）\n",
    "\n",
    "        # 出力層の重み行列W2とバイアスb2にランダムな初期値を与える\n",
    "        self.W2 = init_weight * np.random.randn(hidden_layer_size, output_layer_size)\n",
    "        self.b2 = np.zeros(output_layer_size)\n",
    "        self.a2 = [] # 出力層が保持する値（ソフトマックス関数による変換前）\n",
    "        self.z2 = [] # 出力層が保持する値（ソフトマックス関数による変換後）\n",
    "\n",
    "        self.loss_ = -1 # 誤差\n",
    "        self.loss_curve_ = [] # 誤差の履歴\n",
    "\n",
    "        print(\"W1.shape=\", self.W1.shape)\n",
    "        print(\"b1.shape=\", self.b1.shape)\n",
    "        print(\"W2.shape=\", self.W2.shape)\n",
    "        print(\"b2.shape=\", self.b2.shape)\n",
    "\n",
    "    def forward_propagation(self, x): # 前向き計算\n",
    "        self.a1 = np.dot(x, self.W1) + self.b1 # 入力層からの入力と重み行列との線形和＋バイアス\n",
    "        self.z1 = sigmoid(self.a1) # シグモイド関数で変換して隠れ層からの出力とする\n",
    "        self.a2 = np.dot(self.z1, self.W2) + self.b2 # 隠れ層からの入力と重み行列との線形和＋バイアス\n",
    "        self.z2 = softmax(self.a2) # ソフトマックス関数で変換して出力層からの出力とする\n",
    "        return self.z2 # 出力層からの出力を予測結果とする\n",
    "\n",
    "    def backward_propagation(self, x, y_pred, y_real): # 後ろ向き計算\n",
    "        grads = Gradient() # 重み行列を修正するための勾配を取りまとめるクラス\n",
    "        batch_num = x.shape[0] # 入力データの総数\n",
    "        dy = (y_pred - y_real) / batch_num # 全データに対して誤差を算出し、データ総数で割る\n",
    "        grads.W2 = np.dot(self.z1.T, dy) # 出力層の重み行列W2を修正するための勾配\n",
    "        grads.b2 = np.sum(dy, axis=0) # 出力層のバイアスb2を修正するための勾配\n",
    "        dz1 = np.dot(dy, self.W2.T) # 隠れ層を修正するための誤差\n",
    "        da1 = sigmoid_gradient(self.a1) * dz1 # 隠れ層を修正するための勾配\n",
    "        grads.W1 = np.dot(x.T, da1) # 隠れ層の重み行列W1を修正するための勾配\n",
    "        grads.b1 = np.sum(da1, axis=0) # 隠れ層のバイアスb1を修正するための勾配\n",
    "        return grads # 計算した勾配をまとめて返す\n",
    "\n",
    "    # x:入力データ, t:教師データ\n",
    "    def loss(self, x, y_real): # 予測結果と本当の値とのクロスエントロピー誤差を損失関数とする\n",
    "        self.loss_ = cross_entropy_error(self.forward_propagation(x), y_real)\n",
    "        return self.loss_\n",
    "\n",
    "    def score(self, x, y_real): # accuracy score\n",
    "        y_real = np.argmax(y_real, axis=1) \n",
    "        y_pred = np.argmax(self.forward_propagation(x), axis=1)\n",
    "        accuracy = np.sum(y_pred == y_real) / float(x.shape[0])\n",
    "        return accuracy\n",
    "\n",
    "class Gradient: # 重み行列を修正するための勾配を取りまとめるクラス\n",
    "    def __init__(self):\n",
    "        self.W1 = np.array([])\n",
    "        self.b1 = np.array([])\n",
    "        self.W2 = np.array([])\n",
    "        self.b2 = np.array([])"
   ]
  },
  {
   "cell_type": "code",
   "execution_count": 18,
   "metadata": {},
   "outputs": [],
   "source": [
    "def sigmoid(x): # シグモイド関数\n",
    "    return 1 / (1 + np.exp(-x))"
   ]
  },
  {
   "cell_type": "markdown",
   "metadata": {},
   "source": [
    "シグモイド関数は、ニューラルネットが「神経細胞を模したモデル」であると言われてきた象徴とも言える関数で、非線形活性化関数として使われます。<br>ただ、計算時間短縮の観点から、現在のディープラーニングなどではシグモイド関数ではなくReLU関数などが使われる傾向があります。<br>順方向の計算に使います。"
   ]
  },
  {
   "cell_type": "code",
   "execution_count": 19,
   "metadata": {},
   "outputs": [],
   "source": [
    "def sigmoid_gradient(x): # シグモイド関数の微分\n",
    "    return (1.0 - sigmoid(x)) * sigmoid(x)"
   ]
  },
  {
   "cell_type": "markdown",
   "metadata": {},
   "source": [
    "シグモイド関数の微分を使って勾配を出します。逆方向の計算で使います。シグモイド関数の微分について詳しくは[こちら](https://qiita.com/yosshi4486/items/d111272edeba0984cef2)を参照。"
   ]
  },
  {
   "cell_type": "code",
   "execution_count": 20,
   "metadata": {},
   "outputs": [],
   "source": [
    "def softmax(x): # 和が1になるように変換することで「確率」としての取り扱いを可能にする\n",
    "    if x.ndim == 2:\n",
    "        x = x.T\n",
    "        x = x - np.max(x, axis=0)\n",
    "        y = np.exp(x) / np.sum(np.exp(x), axis=0)\n",
    "        return y.T \n",
    "    x = x - np.max(x)\n",
    "    return np.exp(x) / np.sum(np.exp(x))"
   ]
  },
  {
   "cell_type": "markdown",
   "metadata": {},
   "source": [
    "和が1になるように変換することで「確率」としての取り扱いを可能にする関数です。順方向の計算に使います。"
   ]
  },
  {
   "cell_type": "code",
   "execution_count": 21,
   "metadata": {},
   "outputs": [],
   "source": [
    "def cross_entropy_error(y_pred, y_real): # クロスエントロピー誤差\n",
    "    if y_real.ndim == 1:\n",
    "        y_real = y_real.reshape(1, t.size)\n",
    "        y_pred = y_pred.reshape(1, y.size)\n",
    "    if y_real.size == y_pred.size:\n",
    "        y_real = y_real.argmax(axis=1)\n",
    "    batch_size = y_pred.shape[0]\n",
    "    return -np.sum(np.log(y_pred[np.arange(batch_size), y_real] + 1e-8)) / batch_size"
   ]
  },
  {
   "cell_type": "markdown",
   "metadata": {},
   "source": [
    "交差エントロピーとは、2つの確率分布の間に定義される値で、二つの分布が異なるほど大きな値をとります。ニューラルネットワークやディープラーニングでは、ソフトマックス関数と組み合わせて、誤差（損失）の計算によく使われます。"
   ]
  },
  {
   "cell_type": "markdown",
   "metadata": {},
   "source": [
    "### create MyMLP class instance"
   ]
  },
  {
   "cell_type": "code",
   "execution_count": 22,
   "metadata": {
    "scrolled": true
   },
   "outputs": [
    {
     "name": "stdout",
     "output_type": "stream",
     "text": [
      "W1.shape= (4, 3)\n",
      "b1.shape= (3,)\n",
      "W2.shape= (3, 3)\n",
      "b2.shape= (3,)\n"
     ]
    }
   ],
   "source": [
    "net = MyMLP(input_layer_size=4, hidden_layer_size=3, output_layer_size=3)"
   ]
  },
  {
   "cell_type": "markdown",
   "metadata": {},
   "source": [
    "## 実際の学習手順"
   ]
  },
  {
   "cell_type": "markdown",
   "metadata": {},
   "source": [
    "今回は収束条件の判定は特に行わず、繰り返しの回数だけ決めておきます。学習率は、勾配降下法などで使うものと同じ概念です。"
   ]
  },
  {
   "cell_type": "code",
   "execution_count": 24,
   "metadata": {},
   "outputs": [],
   "source": [
    "iters_num = 5000  # 繰り返しの回数\n",
    "learning_rate = 0.1 # 学習率"
   ]
  },
  {
   "cell_type": "markdown",
   "metadata": {},
   "source": [
    "順方向の計算（前向き計算）を行なって予測値を出し、実際の値との誤差を算出し、逆方向の計算（後ろ向き計算）を行なって各種パラメータを微調整していくという流れを繰り返します。ただし、実際の計算では1個1個のサンプルに対して順方向・逆方向の計算をするのではなく、「バッチ」と呼ばれる単位でまとめて計算します。そのために行列演算を使います。"
   ]
  },
  {
   "cell_type": "code",
   "execution_count": 25,
   "metadata": {},
   "outputs": [],
   "source": [
    "accuracy_curve = []\n",
    "for i in range(iters_num):\n",
    "    Y_pred = net.forward_propagation(X) # 順方向の計算\n",
    "    grad = net.backward_propagation(X, Y_pred, Y) # 逆方向の計算\n",
    "    net.W1 -= learning_rate * grad.W1 # 隠れ層の重み行列W1を微修正\n",
    "    net.b1 -= learning_rate * grad.b1 # 隠れ層のバイアスb1を微修正\n",
    "    net.W2 -= learning_rate * grad.W2 # 出力層の重み行列W2を微修正\n",
    "    net.b2 -= learning_rate * grad.b2 # 出力層のバイアスb2を微修正\n",
    "    accuracy_curve.append(net.score(X, Y)) # 正解率の履歴を記録\n",
    "    net.loss_curve_.append(net.loss(X, Y)) # 誤差の履歴を記録"
   ]
  },
  {
   "cell_type": "code",
   "execution_count": 26,
   "metadata": {
    "scrolled": true
   },
   "outputs": [
    {
     "data": {
      "text/plain": [
       "0.98"
      ]
     },
     "execution_count": 26,
     "metadata": {},
     "output_type": "execute_result"
    }
   ],
   "source": [
    "net.score(X,Y)"
   ]
  },
  {
   "cell_type": "code",
   "execution_count": 29,
   "metadata": {},
   "outputs": [
    {
     "data": {
      "image/png": "[encoded data removed]",
      "text/plain": [
       "<Figure size 432x288 with 1 Axes>"
      ]
     },
     "metadata": {
      "needs_background": "light"
     },
     "output_type": "display_data"
    }
   ],
   "source": [
    "plt.title(\"Accuracy Curve\")\n",
    "plt.plot(accuracy_curve)\n",
    "plt.xlabel(\"Iteration\")\n",
    "plt.ylabel(\"Accuracy\")\n",
    "plt.grid()\n",
    "plt.show()"
   ]
  },
  {
   "cell_type": "code",
   "execution_count": 30,
   "metadata": {},
   "outputs": [
    {
     "data": {
      "text/plain": [
       "0.06732845894813307"
      ]
     },
     "execution_count": 30,
     "metadata": {},
     "output_type": "execute_result"
    }
   ],
   "source": [
    "#loss\n",
    "net.loss(X,Y)"
   ]
  },
  {
   "cell_type": "code",
   "execution_count": 31,
   "metadata": {},
   "outputs": [
    {
     "data": {
      "image/png": "[encoded data removed]",
      "text/plain": [
       "<Figure size 432x288 with 1 Axes>"
      ]
     },
     "metadata": {
      "needs_background": "light"
     },
     "output_type": "display_data"
    }
   ],
   "source": [
    "plt.title(\"Loss Curve\")\n",
    "plt.plot(net.loss_curve_)\n",
    "plt.xlabel(\"Iteration\")\n",
    "plt.ylabel(\"Loss\")\n",
    "plt.grid()\n",
    "plt.show()"
   ]
  },
  {
   "cell_type": "code",
   "execution_count": 32,
   "metadata": {},
   "outputs": [
    {
     "data": {
      "text/plain": [
       "array([[-0.49580432,  1.50960876,  1.68297647],\n",
       "       [-1.72575126,  1.70721578,  1.67990558],\n",
       "       [ 2.68554912, -2.40707745, -2.55065425],\n",
       "       [ 1.29464481, -2.77733414, -2.97505541]])"
      ]
     },
     "execution_count": 32,
     "metadata": {},
     "output_type": "execute_result"
    }
   ],
   "source": [
    "net.W1"
   ]
  },
  {
   "cell_type": "code",
   "execution_count": 33,
   "metadata": {},
   "outputs": [
    {
     "data": {
      "text/plain": [
       "array([-0.32130748,  1.56998569,  1.7069662 ])"
      ]
     },
     "execution_count": 33,
     "metadata": {},
     "output_type": "execute_result"
    }
   ],
   "source": [
    "net.b1"
   ]
  },
  {
   "cell_type": "code",
   "execution_count": 35,
   "metadata": {},
   "outputs": [
    {
     "data": {
      "text/plain": [
       "array([[-6.23446456,  2.57294588,  3.66050795],\n",
       "       [ 3.51584765,  1.4464291 , -4.95393322],\n",
       "       [ 2.83575865,  1.92071895, -4.77043751]])"
      ]
     },
     "execution_count": 35,
     "metadata": {},
     "output_type": "execute_result"
    }
   ],
   "source": [
    "net.W2"
   ]
  },
  {
   "cell_type": "code",
   "execution_count": 36,
   "metadata": {},
   "outputs": [
    {
     "data": {
      "text/plain": [
       "array([-0.20541293, -1.84314386,  2.04855679])"
      ]
     },
     "execution_count": 36,
     "metadata": {},
     "output_type": "execute_result"
    }
   ],
   "source": [
    "net.b2"
   ]
  },
  {
   "cell_type": "code",
   "execution_count": 37,
   "metadata": {},
   "outputs": [
    {
     "data": {
      "text/plain": [
       "array([[9.89595706e-01, 1.04032334e-02, 1.06018474e-06],\n",
       "       [9.88442922e-01, 1.15558849e-02, 1.19350365e-06],\n",
       "       [9.89203520e-01, 1.07953750e-02, 1.10542254e-06],\n",
       "       [9.87894929e-01, 1.21038133e-02, 1.25768913e-06],\n",
       "       [9.89674687e-01, 1.03242615e-02, 1.05113536e-06],\n",
       "       [9.89421402e-01, 1.05775183e-02, 1.08020423e-06],\n",
       "       [9.89083914e-01, 1.09149663e-02, 1.11933764e-06],\n",
       "       [9.89155023e-01, 1.08438659e-02, 1.11092420e-06],\n",
       "       [9.87393475e-01, 1.26052076e-02, 1.31687393e-06],\n",
       "       [9.88506856e-01, 1.14919584e-02, 1.18599694e-06],\n",
       "       [9.89733222e-01, 1.02657334e-02, 1.04438514e-06],\n",
       "       [9.88632639e-01, 1.13661891e-02, 1.17147438e-06],\n",
       "       [9.88591215e-01, 1.14076084e-02, 1.17623856e-06],\n",
       "       [9.89330321e-01, 1.06685877e-02, 1.09089462e-06],\n",
       "       [9.90149541e-01, 9.84946224e-03, 9.96820047e-07],\n",
       "       [9.90088968e-01, 9.91002866e-03, 1.00372876e-06],\n",
       "       [9.89981801e-01, 1.00171832e-02, 1.01597243e-06],\n",
       "       [9.89500682e-01, 1.04982468e-02, 1.07112246e-06],\n",
       "       [9.89508344e-01, 1.04905860e-02, 1.07015993e-06],\n",
       "       [9.89672696e-01, 1.03262529e-02, 1.05136753e-06],\n",
       "       [9.88682312e-01, 1.13165229e-02, 1.16550897e-06],\n",
       "       [9.89457946e-01, 1.05409777e-02, 1.07606220e-06],\n",
       "       [9.90021365e-01, 9.97762360e-03, 1.01149047e-06],\n",
       "       [9.86850707e-01, 1.31479124e-02, 1.38060722e-06],\n",
       "       [9.86337377e-01, 1.36611817e-02, 1.44132851e-06],\n",
       "       [9.87174882e-01, 1.28237763e-02, 1.34199749e-06],\n",
       "       [9.88330225e-01, 1.16685682e-02, 1.20671576e-06],\n",
       "       [9.89427115e-01, 1.05718051e-02, 1.07953848e-06],\n",
       "       [9.89505838e-01, 1.04930915e-02, 1.07049194e-06],\n",
       "       [9.87772815e-01, 1.22259128e-02, 1.27190826e-06],\n",
       "       [9.87414628e-01, 1.25840581e-02, 1.31391183e-06],\n",
       "       [9.89082793e-01, 1.09160874e-02, 1.11923720e-06],\n",
       "       [9.90008199e-01, 9.99078806e-03, 1.01294557e-06],\n",
       "       [9.90102986e-01, 9.89601166e-03, 1.00212886e-06],\n",
       "       [9.88246241e-01, 1.17525428e-02, 1.21641182e-06],\n",
       "       [9.89574648e-01, 1.04242895e-02, 1.06262195e-06],\n",
       "       [9.89848821e-01, 1.01501479e-02, 1.03115047e-06],\n",
       "       [9.89720841e-01, 1.02781128e-02, 1.04583791e-06],\n",
       "       [9.88481733e-01, 1.15170775e-02, 1.18930900e-06],\n",
       "       [9.89210799e-01, 1.07880966e-02, 1.10446694e-06],\n",
       "       [9.89654112e-01, 1.03448346e-02, 1.05351933e-06],\n",
       "       [9.82637635e-01, 1.73604744e-02, 1.89054067e-06],\n",
       "       [9.89025366e-01, 1.09735080e-02, 1.12615151e-06],\n",
       "       [9.88142055e-01, 1.18567158e-02, 1.22890515e-06],\n",
       "       [9.88189230e-01, 1.18095468e-02, 1.22307665e-06],\n",
       "       [9.88057328e-01, 1.19414332e-02, 1.23864445e-06],\n",
       "       [9.89582312e-01, 1.04166267e-02, 1.06171794e-06],\n",
       "       [9.88784699e-01, 1.12141475e-02, 1.15393407e-06],\n",
       "       [9.89705675e-01, 1.02932778e-02, 1.04754914e-06],\n",
       "       [9.89260251e-01, 1.07386503e-02, 1.09879058e-06],\n",
       "       [1.25791202e-02, 9.86660679e-01, 7.60200814e-04],\n",
       "       [1.02823320e-02, 9.87843664e-01, 1.87400388e-03],\n",
       "       [8.47333334e-03, 9.87901584e-01, 3.62508309e-03],\n",
       "       [5.40127053e-03, 9.69514769e-01, 2.50839607e-02],\n",
       "       [6.84053621e-03, 9.84145107e-01, 9.01435711e-03],\n",
       "       [5.07980330e-03, 9.63869840e-01, 3.10503568e-02],\n",
       "       [6.94878897e-03, 9.83889032e-01, 9.16217921e-03],\n",
       "       [1.61956142e-02, 9.83014296e-01, 7.90089509e-04],\n",
       "       [1.05295192e-02, 9.87941054e-01, 1.52942656e-03],\n",
       "       [6.34050067e-03, 9.77679701e-01, 1.59797978e-02],\n",
       "       [9.23576712e-03, 9.87267525e-01, 3.49670769e-03],\n",
       "       [8.84349951e-03, 9.87336956e-01, 3.81954459e-03],\n",
       "       [1.14610755e-02, 9.87376902e-01, 1.16202276e-03],\n",
       "       [5.12873537e-03, 9.65927843e-01, 2.89434215e-02],\n",
       "       [1.74221016e-02, 9.81988161e-01, 5.89737170e-04],\n",
       "       [1.32419743e-02, 9.86060111e-01, 6.97915020e-04],\n",
       "       [3.58699706e-03, 8.96129937e-01, 1.00283066e-01],\n",
       "       [1.28717028e-02, 9.86281731e-01, 8.46566284e-04],\n",
       "       [2.03883720e-03, 7.09321395e-01, 2.88639768e-01],\n",
       "       [1.13319945e-02, 9.87229699e-01, 1.43830612e-03],\n",
       "       [9.31910722e-04, 4.16200811e-01, 5.82867279e-01],\n",
       "       [1.32565083e-02, 9.85926013e-01, 8.17478676e-04],\n",
       "       [1.07098588e-03, 4.68250685e-01, 5.30678329e-01],\n",
       "       [6.75188912e-03, 9.83690176e-01, 9.55793509e-03],\n",
       "       [1.23681263e-02, 9.86727266e-01, 9.04607843e-04],\n",
       "       [1.21174819e-02, 9.86931175e-01, 9.51343448e-04],\n",
       "       [7.88341624e-03, 9.87322646e-01, 4.79393766e-03],\n",
       "       [3.26553342e-03, 8.77842027e-01, 1.18892439e-01],\n",
       "       [5.37289115e-03, 9.69490610e-01, 2.51364991e-02],\n",
       "       [2.02752400e-02, 9.79325533e-01, 3.99227200e-04],\n",
       "       [1.10745974e-02, 9.87309766e-01, 1.61563678e-03],\n",
       "       [1.35315976e-02, 9.85630844e-01, 8.37558148e-04],\n",
       "       [1.30452108e-02, 9.86041857e-01, 9.12931902e-04],\n",
       "       [1.02510322e-04, 7.58261973e-02, 9.24071292e-01],\n",
       "       [2.39495752e-03, 7.57034608e-01, 2.40570434e-01],\n",
       "       [7.95290395e-03, 9.86215913e-01, 5.83118323e-03],\n",
       "       [9.29112705e-03, 9.88126906e-01, 2.58196653e-03],\n",
       "       [6.38441388e-03, 9.82094445e-01, 1.15211412e-02],\n",
       "       [1.06012440e-02, 9.87385893e-01, 2.01286287e-03],\n",
       "       [6.91613911e-03, 9.83120177e-01, 9.96368404e-03],\n",
       "       [4.59018768e-03, 9.50886679e-01, 4.45231333e-02],\n",
       "       [6.88804763e-03, 9.83843606e-01, 9.26834615e-03],\n",
       "       [1.10305713e-02, 9.87429669e-01, 1.53975942e-03],\n",
       "       [1.55768404e-02, 9.83621006e-01, 8.02153748e-04],\n",
       "       [6.89146034e-03, 9.83204899e-01, 9.90364062e-03],\n",
       "       [1.12651405e-02, 9.87248880e-01, 1.48597980e-03],\n",
       "       [9.19631236e-03, 9.87591546e-01, 3.21214165e-03],\n",
       "       [1.12657028e-02, 9.87419264e-01, 1.31503321e-03],\n",
       "       [2.94082084e-02, 9.70190024e-01, 4.01767219e-04],\n",
       "       [9.57616695e-03, 9.87658333e-01, 2.76550040e-03],\n",
       "       [6.01765185e-06, 7.61611655e-03, 9.92377866e-01],\n",
       "       [1.52910763e-05, 1.62207947e-02, 9.83763914e-01],\n",
       "       [1.56207442e-05, 1.65567678e-02, 9.83427611e-01],\n",
       "       [1.86016877e-05, 1.90489261e-02, 9.80932472e-01],\n",
       "       [8.02244767e-06, 9.61845316e-03, 9.90373524e-01],\n",
       "       [8.21369408e-06, 9.81965404e-03, 9.90172132e-01],\n",
       "       [2.12131872e-05, 2.10580216e-02, 9.78920765e-01],\n",
       "       [1.59442425e-05, 1.68605375e-02, 9.83123518e-01],\n",
       "       [1.13069748e-05, 1.27393526e-02, 9.87249340e-01],\n",
       "       [1.06075385e-05, 1.20608323e-02, 9.87928560e-01],\n",
       "       [3.60829614e-04, 2.05122553e-01, 7.94516617e-01],\n",
       "       [2.65987903e-05, 2.54975750e-02, 9.74475826e-01],\n",
       "       [2.97559974e-05, 2.79194968e-02, 9.72050747e-01],\n",
       "       [1.00011414e-05, 1.14955260e-02, 9.88494473e-01],\n",
       "       [7.22953588e-06, 8.83014404e-03, 9.91162626e-01],\n",
       "       [1.81001755e-05, 1.85821751e-02, 9.81399725e-01],\n",
       "       [5.84202807e-05, 4.82012133e-02, 9.51740366e-01],\n",
       "       [1.63279050e-05, 1.71375617e-02, 9.82846110e-01],\n",
       "       [5.65588564e-06, 7.24907956e-03, 9.92745265e-01],\n",
       "       [5.27934589e-05, 4.45880901e-02, 9.55359116e-01],\n",
       "       [1.47524107e-05, 1.57754405e-02, 9.84209807e-01],\n",
       "       [1.62652325e-05, 1.70198167e-02, 9.82963918e-01],\n",
       "       [7.76008569e-06, 9.37978853e-03, 9.90612451e-01],\n",
       "       [2.78881878e-04, 1.68553596e-01, 8.31167522e-01],\n",
       "       [2.41012239e-05, 2.34795607e-02, 9.76496338e-01],\n",
       "       [9.23687198e-05, 7.00037969e-02, 9.29903834e-01],\n",
       "       [5.55576117e-04, 2.86686092e-01, 7.12758331e-01],\n",
       "       [4.64461780e-04, 2.49087316e-01, 7.50448222e-01],\n",
       "       [9.16765818e-06, 1.07218488e-02, 9.89268984e-01],\n",
       "       [5.96198268e-04, 3.05780717e-01, 6.93623084e-01],\n",
       "       [1.98955976e-05, 2.02072455e-02, 9.79772859e-01],\n",
       "       [3.85951277e-04, 2.17827112e-01, 7.81786937e-01],\n",
       "       [8.01224387e-06, 9.60996321e-03, 9.90382025e-01],\n",
       "       [1.10544576e-03, 4.77015567e-01, 5.21878988e-01],\n",
       "       [2.84366245e-05, 2.69398004e-02, 9.73031763e-01],\n",
       "       [1.39966591e-05, 1.51622532e-02, 9.84823750e-01],\n",
       "       [9.16495962e-06, 1.06979693e-02, 9.89292866e-01],\n",
       "       [5.96427004e-05, 4.89408837e-02, 9.50999474e-01],\n",
       "       [5.88127974e-04, 2.97633716e-01, 7.01778156e-01],\n",
       "       [8.77968029e-05, 6.70109842e-02, 9.32901219e-01],\n",
       "       [9.84190249e-06, 1.13519417e-02, 9.88638216e-01],\n",
       "       [1.30216699e-04, 9.18439760e-02, 9.08025807e-01],\n",
       "       [1.52910763e-05, 1.62207947e-02, 9.83763914e-01],\n",
       "       [9.15690775e-06, 1.07083191e-02, 9.89282524e-01],\n",
       "       [8.84204577e-06, 1.04014816e-02, 9.89589676e-01],\n",
       "       [3.02089224e-05, 2.82218670e-02, 9.71747924e-01],\n",
       "       [3.92086526e-05, 3.49574529e-02, 9.65003338e-01],\n",
       "       [8.33124385e-05, 6.41139381e-02, 9.35802749e-01],\n",
       "       [1.43402156e-05, 1.53635621e-02, 9.84622098e-01],\n",
       "       [6.28561465e-05, 5.08852859e-02, 9.49051858e-01]])"
      ]
     },
     "execution_count": 37,
     "metadata": {},
     "output_type": "execute_result"
    }
   ],
   "source": [
    "#予測結果\n",
    "#学習済みの重み行列とバイアスを用いて順方向の計算を行うことで、既知のデータ・未知のデータに対する予測値を算出できます。\n",
    "\n",
    "net.forward_propagation(X)"
   ]
  },
  {
   "cell_type": "code",
   "execution_count": null,
   "metadata": {},
   "outputs": [],
   "source": []
  }
 ],
 "metadata": {
  "kernelspec": {
   "display_name": "Python 3",
   "language": "python",
   "name": "python3"
  },
  "language_info": {
   "codemirror_mode": {
    "name": "ipython",
    "version": 3
   },
   "file_extension": ".py",
   "mimetype": "text/x-python",
   "name": "python",
   "nbconvert_exporter": "python",
   "pygments_lexer": "ipython3",
   "version": "3.7.4"
  }
 },
 "nbformat": 4,
 "nbformat_minor": 4
}
