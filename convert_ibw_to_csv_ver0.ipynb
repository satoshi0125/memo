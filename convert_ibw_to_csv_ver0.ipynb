{
 "cells": [
  {
   "cell_type": "markdown",
   "metadata": {},
   "source": [
    "### convert*.ibw (Igor BinaryWave) files to CSV using ibw-extractor\n",
    "### ref. \n",
    "- [ibw-extractor](https://github.com/N-Parsons/ibw-extractor)\n",
    "    - https://nparsons.uk/research/scientific-software/ibw-extractor\n",
    "- https://github.com/wking/igor\n",
    "- http://blog.tremily.us/posts/igor/\n",
    "- https://www.umass.edu/healeylab/Igor%20traces%20into%20python.html"
   ]
  },
  {
   "cell_type": "code",
   "execution_count": 2,
   "metadata": {
    "scrolled": false
   },
   "outputs": [
    {
     "name": "stdout",
     "output_type": "stream",
     "text": [
      "Requirement already satisfied: igor in c:\\users\\pc44\\anaconda3\\lib\\site-packages (0.3)\n"
     ]
    }
   ],
   "source": [
    "!pip install igor"
   ]
  },
  {
   "cell_type": "code",
   "execution_count": 3,
   "metadata": {},
   "outputs": [],
   "source": [
    "import igor "
   ]
  },
  {
   "cell_type": "code",
   "execution_count": 4,
   "metadata": {},
   "outputs": [],
   "source": [
    "from igor import LOG\n",
    "import os.path"
   ]
  },
  {
   "cell_type": "code",
   "execution_count": 5,
   "metadata": {},
   "outputs": [],
   "source": [
    "from igor.binarywave import load as loadibw\n",
    "import numpy as np"
   ]
  },
  {
   "cell_type": "code",
   "execution_count": 7,
   "metadata": {},
   "outputs": [],
   "source": [
    "data = loadibw('../../A_9-1-1_191031_70.ibw')"
   ]
  },
  {
   "cell_type": "code",
   "execution_count": 9,
   "metadata": {
    "scrolled": true
   },
   "outputs": [
    {
     "data": {
      "text/plain": [
       "array([[  7.07652426,   2.62991071,  -6.79942894, ...,   6.17951965,\n",
       "          8.31926632,   4.00197601],\n",
       "       [ 13.11716747,   9.82894325,   2.57738996, ...,   3.74796343,\n",
       "         10.66777134,   7.51579666],\n",
       "       [ 11.43000984,  11.83893681,  10.91530323, ...,   0.08497461,\n",
       "          7.5106039 ,   7.47975397],\n",
       "       ...,\n",
       "       [  2.68770266,  14.73446846,   7.62896824, ...,   1.0860306 ,\n",
       "        -10.72317982,  -9.10786247],\n",
       "       [  1.18359315,  15.19103909,   7.51982069, ...,   7.28066349,\n",
       "         -7.32867718,   1.33695257],\n",
       "       [ -1.5964886 ,   7.0430007 ,   2.65557623, ...,   9.33802891,\n",
       "         -0.35444364,   9.95083618]])"
      ]
     },
     "execution_count": 9,
     "metadata": {},
     "output_type": "execute_result"
    }
   ],
   "source": [
    "data['wave']['wData']"
   ]
  },
  {
   "cell_type": "code",
   "execution_count": null,
   "metadata": {},
   "outputs": [],
   "source": []
  },
  {
   "cell_type": "code",
   "execution_count": 22,
   "metadata": {},
   "outputs": [],
   "source": [
    "def data_path(filename):\n",
    "    LOG.info('Testing igorpy compatibility {}\\n'.format(filename))\n",
    "    path = os.path.join(_data_dir, filename)\n",
    "    return path"
   ]
  },
  {
   "cell_type": "code",
   "execution_count": 25,
   "metadata": {
    "scrolled": false
   },
   "outputs": [],
   "source": [
    "_this_dir= os.path.dirname('A_9-1-1_191031_70.ibw')\n",
    "_data_dir = os.path.join(_this_dir, 'data')"
   ]
  },
  {
   "cell_type": "code",
   "execution_count": 26,
   "metadata": {
    "scrolled": false
   },
   "outputs": [
    {
     "ename": "AttributeError",
     "evalue": "module 'igor' has no attribute 'load'",
     "output_type": "error",
     "traceback": [
      "\u001b[1;31m---------------------------------------------------------------------------\u001b[0m",
      "\u001b[1;31mAttributeError\u001b[0m                            Traceback (most recent call last)",
      "\u001b[1;32m<ipython-input-26-f43e1d50e2cd>\u001b[0m in \u001b[0;36m<module>\u001b[1;34m\u001b[0m\n\u001b[0;32m      1\u001b[0m \u001b[0mpath\u001b[0m \u001b[1;33m=\u001b[0m \u001b[0mdata_path\u001b[0m\u001b[1;33m(\u001b[0m\u001b[1;34m'A_9-1-1_191031_70.ibw'\u001b[0m\u001b[1;33m)\u001b[0m\u001b[1;33m\u001b[0m\u001b[1;33m\u001b[0m\u001b[0m\n\u001b[1;32m----> 2\u001b[1;33m \u001b[0md\u001b[0m \u001b[1;33m=\u001b[0m \u001b[0migor\u001b[0m\u001b[1;33m.\u001b[0m\u001b[0mload\u001b[0m\u001b[1;33m(\u001b[0m\u001b[0mpath\u001b[0m\u001b[1;33m)\u001b[0m\u001b[1;33m\u001b[0m\u001b[1;33m\u001b[0m\u001b[0m\n\u001b[0m",
      "\u001b[1;31mAttributeError\u001b[0m: module 'igor' has no attribute 'load'"
     ]
    }
   ],
   "source": [
    "path = data_path('A_9-1-1_191031_70.ibw')\n",
    "d = igor.load(path)"
   ]
  },
  {
   "cell_type": "code",
   "execution_count": 27,
   "metadata": {
    "scrolled": true
   },
   "outputs": [
    {
     "ename": "AttributeError",
     "evalue": "module 'igor' has no attribute 'load'",
     "output_type": "error",
     "traceback": [
      "\u001b[1;31m---------------------------------------------------------------------------\u001b[0m",
      "\u001b[1;31mAttributeError\u001b[0m                            Traceback (most recent call last)",
      "\u001b[1;32m<ipython-input-27-9a9b99b07cc8>\u001b[0m in \u001b[0;36m<module>\u001b[1;34m\u001b[0m\n\u001b[1;32m----> 1\u001b[1;33m \u001b[0md\u001b[0m \u001b[1;33m=\u001b[0m \u001b[0migor\u001b[0m\u001b[1;33m.\u001b[0m\u001b[0mload\u001b[0m\u001b[1;33m(\u001b[0m\u001b[1;34m'A_9-1-1_191031_70.ibw'\u001b[0m\u001b[1;33m)\u001b[0m\u001b[1;33m\u001b[0m\u001b[1;33m\u001b[0m\u001b[0m\n\u001b[0m",
      "\u001b[1;31mAttributeError\u001b[0m: module 'igor' has no attribute 'load'"
     ]
    }
   ],
   "source": [
    "d = igor.load('A_9-1-1_191031_70.ibw')"
   ]
  },
  {
   "cell_type": "code",
   "execution_count": 1,
   "metadata": {
    "scrolled": false
   },
   "outputs": [
    {
     "name": "stdout",
     "output_type": "stream",
     "text": [
      "No input files specified. Aborting.\n"
     ]
    }
   ],
   "source": [
    "!python ibw-extractor-master/ibw-extractor.py "
   ]
  },
  {
   "cell_type": "code",
   "execution_count": 2,
   "metadata": {
    "scrolled": true
   },
   "outputs": [
    {
     "name": "stdout",
     "output_type": "stream",
     "text": [
      "Usage: ibw-extractor.py [OPTIONS] [INFILES]...\n",
      "\n",
      "Options:\n",
      "  -o, --outfile TEXT              Output filename\n",
      "  -f, --outformat [csv|tsv|json|dump]\n",
      "                                  Output format\n",
      "  -d, --outdir TEXT               Output file directory (relative to input\n",
      "                                  file/folder)\n",
      "  --clobber                       Force overwrite without confirmation\n",
      "  --headers                       Include column headers in csv/tsv output\n",
      "  --recursive                     Recurse into sub-folders\n",
      "  --minimise                      Minimise JSON file size by removing\n",
      "                                  structure\n",
      "  --version                       Show the version and exit.\n",
      "  --help                          Show this message and exit.\n"
     ]
    }
   ],
   "source": [
    "!python ibw-extractor-master/ibw-extractor.py --help"
   ]
  },
  {
   "cell_type": "code",
   "execution_count": 3,
   "metadata": {
    "scrolled": true
   },
   "outputs": [
    {
     "name": "stdout",
     "output_type": "stream",
     "text": [
      "Output format not specified or implied\n"
     ]
    }
   ],
   "source": [
    "!python ibw-extractor-master/ibw-extractor.py A_9-1-1_191031_70.ibw"
   ]
  },
  {
   "cell_type": "code",
   "execution_count": 5,
   "metadata": {
    "scrolled": false
   },
   "outputs": [
    {
     "name": "stdout",
     "output_type": "stream",
     "text": [
      "Warning: stored filename differs from input file name\n",
      "Input filename: A_9-1-1_191031_70\n",
      "Stored filename: wav (.ibw)\n"
     ]
    }
   ],
   "source": [
    "!python ibw-extractor-master/ibw-extractor.py A_9-1-1_191031_70.ibw -o hoge -f csv"
   ]
  },
  {
   "cell_type": "code",
   "execution_count": 6,
   "metadata": {},
   "outputs": [
    {
     "ename": "SyntaxError",
     "evalue": "invalid syntax (<ipython-input-6-0b9137ef9558>, line 1)",
     "output_type": "error",
     "traceback": [
      "\u001b[1;36m  File \u001b[1;32m\"<ipython-input-6-0b9137ef9558>\"\u001b[1;36m, line \u001b[1;32m1\u001b[0m\n\u001b[1;33m    ibw-extractor-master/ibw-extractor.py A_9-1-1_191031_70.ibw -o test -f csv\u001b[0m\n\u001b[1;37m                                            ^\u001b[0m\n\u001b[1;31mSyntaxError\u001b[0m\u001b[1;31m:\u001b[0m invalid syntax\n"
     ]
    }
   ],
   "source": [
    "\n",
    "!python ibw-extractor-master/ibw-extractor.py A_9-1-1_191031_70.ibw -o test -f csv"
   ]
  },
  {
   "cell_type": "code",
   "execution_count": null,
   "metadata": {},
   "outputs": [],
   "source": []
  }
 ],
 "metadata": {
  "kernelspec": {
   "display_name": "Python 3",
   "language": "python",
   "name": "python3"
  },
  "language_info": {
   "codemirror_mode": {
    "name": "ipython",
    "version": 3
   },
   "file_extension": ".py",
   "mimetype": "text/x-python",
   "name": "python",
   "nbconvert_exporter": "python",
   "pygments_lexer": "ipython3",
   "version": "3.7.4"
  }
 },
 "nbformat": 4,
 "nbformat_minor": 4
}
